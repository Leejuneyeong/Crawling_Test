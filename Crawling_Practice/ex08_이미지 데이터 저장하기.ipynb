{
 "cells": [
  {
   "cell_type": "markdown",
   "id": "3b6defbe",
   "metadata": {},
   "source": [
    "# 포켓몬 페이지에서 이미지 데이터 수집\n",
    "- 이미지 데이터를 다운로드 받아 바탕화면에 저장"
   ]
  },
  {
   "cell_type": "code",
   "execution_count": 3,
   "id": "852f9301",
   "metadata": {},
   "outputs": [],
   "source": [
    "# 라이브러리 불러오기!\n",
    "from selenium import webdriver as wb\n",
    "from selenium.webdriver.common.by import By # 선택자를 가져오는 라이브러리\n",
    "from bs4 import BeautifulSoup as bs\n",
    "import time\n",
    "import pandas as pd\n",
    "import os # 파일이나 폴더를 생성해주는 라이브러리 ( 파일 시스템 라이브러리 )\n",
    "from urllib.request import urlretrieve\n",
    "# 이미지 경로를 파일로 변환시켜주는 라이브러리"
   ]
  },
  {
   "cell_type": "code",
   "execution_count": 4,
   "id": "2503a927",
   "metadata": {},
   "outputs": [
    {
     "name": "stdout",
     "output_type": "stream",
     "text": [
      "폴더생성\n"
     ]
    }
   ],
   "source": [
    "# 바탕화면에 '포켓몬도감' 폴더 생성하기 -> os 사용\n",
    "# 파이썬은 / 해야함\n",
    "# if else not\n",
    "if not os.path.isdir('C:/Users/smhrd/Desktop/포켓몬도감'):\n",
    "    os.mkdir('C:/Users/smhrd/Desktop/포켓몬도감') # 폴더를 생성하는 코드\n",
    "    print(\"폴더생성\")\n",
    "else :\n",
    "    print('이미지 폴더가 존재합니다.!')"
   ]
  },
  {
   "cell_type": "code",
   "execution_count": 24,
   "id": "ced2bcde",
   "metadata": {},
   "outputs": [],
   "source": [
    "# 셀레니움을 활용해서 포켓몬 페이지 열기!\n",
    "driver = wb.Chrome()\n",
    "driver.get('https://www.pokemonkorea.co.kr/pokedex#pokedex_1')"
   ]
  },
  {
   "cell_type": "code",
   "execution_count": 25,
   "id": "96d008ed",
   "metadata": {},
   "outputs": [],
   "source": [
    "# 현재 보고있는 페이지의 정보를 bs객체화 진행\n",
    "# bs(페이지정보 , 파씽방법)\n",
    "soup = bs(driver.page_source,'lxml')"
   ]
  },
  {
   "cell_type": "code",
   "execution_count": 26,
   "id": "c849f096",
   "metadata": {},
   "outputs": [],
   "source": [
    "# 이미지 태그 검색해서 가져오기\n",
    "img = soup.select('div.img > div > img')"
   ]
  },
  {
   "cell_type": "code",
   "execution_count": 27,
   "id": "fc667acc",
   "metadata": {},
   "outputs": [
    {
     "data": {
      "text/plain": [
       "''"
      ]
     },
     "execution_count": 27,
     "metadata": {},
     "output_type": "execute_result"
    }
   ],
   "source": [
    "# 첫 번째 데이터 확인하기\n",
    "img[0].text\n",
    "# 빈데이터\n",
    "# .text : 열린태그 와 닫는 태그 사이에 있는 컨텐츠를 가져와 준다\n",
    "# img 태그는 홀태그이기 때문에 컨텐츠가 존재하지 않는다"
   ]
  },
  {
   "cell_type": "markdown",
   "id": "d3d3e4c4",
   "metadata": {},
   "source": [
    " - 수집한 요소에서 컨텐츠가 아닌 속성(src)을 추출하는 방법"
   ]
  },
  {
   "cell_type": "code",
   "execution_count": 28,
   "id": "2b82b423",
   "metadata": {},
   "outputs": [
    {
     "data": {
      "text/plain": [
       "'https://data1.pokemonkorea.co.kr/newdata/pokedex/mid/000101.png'"
      ]
     },
     "execution_count": 28,
     "metadata": {},
     "output_type": "execute_result"
    }
   ],
   "source": [
    "# 이미지데이터 주소값 추출\n",
    "# 속성에 접근할 때는 ['속성명'] ★문자열★\n",
    "img[0]['src']"
   ]
  },
  {
   "cell_type": "code",
   "execution_count": 29,
   "id": "0a8c19fe",
   "metadata": {},
   "outputs": [],
   "source": [
    "# 순수한 이미지 src(주소)를 담을 리스트 제작\n",
    "img_list = []\n",
    "for i in img :\n",
    "    img_list.append(i['src'])"
   ]
  },
  {
   "cell_type": "code",
   "execution_count": 30,
   "id": "c0dcacbf",
   "metadata": {},
   "outputs": [
    {
     "data": {
      "text/plain": [
       "['https://data1.pokemonkorea.co.kr/newdata/pokedex/mid/000101.png',\n",
       " 'https://data1.pokemonkorea.co.kr/newdata/pokedex/mid/000201.png',\n",
       " 'https://data1.pokemonkorea.co.kr/newdata/pokedex/mid/000301.png',\n",
       " 'https://data1.pokemonkorea.co.kr/newdata/pokedex/mid/000302.png',\n",
       " 'https://data1.pokemonkorea.co.kr/newdata/pokedex/mid/000303.png',\n",
       " 'https://data1.pokemonkorea.co.kr/newdata/pokedex/mid/000401.png',\n",
       " 'https://data1.pokemonkorea.co.kr/newdata/pokedex/mid/000501.png',\n",
       " 'https://data1.pokemonkorea.co.kr/newdata/pokedex/mid/000601.png',\n",
       " 'https://data1.pokemonkorea.co.kr/newdata/pokedex/mid/000602.png',\n",
       " 'https://data1.pokemonkorea.co.kr/newdata/pokedex/mid/000603.png',\n",
       " 'https://data1.pokemonkorea.co.kr/newdata/pokedex/mid/000604.png',\n",
       " 'https://data1.pokemonkorea.co.kr/newdata/pokedex/mid/000701.png',\n",
       " 'https://data1.pokemonkorea.co.kr/newdata/pokedex/mid/000801.png',\n",
       " 'https://data1.pokemonkorea.co.kr/newdata/pokedex/mid/000901.png',\n",
       " 'https://data1.pokemonkorea.co.kr/newdata/pokedex/mid/000902.png',\n",
       " 'https://data1.pokemonkorea.co.kr/newdata/pokedex/mid/000903.png',\n",
       " 'https://data1.pokemonkorea.co.kr/newdata/pokedex/mid/001001.png',\n",
       " 'https://data1.pokemonkorea.co.kr/newdata/pokedex/mid/001101.png']"
      ]
     },
     "execution_count": 30,
     "metadata": {},
     "output_type": "execute_result"
    }
   ],
   "source": [
    "# 우리가 실제로 필요한 이미지의 경로데이터만 담아옴!\n",
    "img_list"
   ]
  },
  {
   "cell_type": "markdown",
   "id": "244f94c5",
   "metadata": {},
   "source": [
    "- 이미지의 경로값을 활용해서 이미지 파일로 변환시켜주는 라이브러리 사용\n",
    "- 이미지 파일로 저장!"
   ]
  },
  {
   "cell_type": "code",
   "execution_count": 31,
   "id": "a5d10225",
   "metadata": {},
   "outputs": [
    {
     "data": {
      "text/plain": [
       "('C:/Users/smhrd/Desktop/포켓몬도감/이상해씨.jpg',\n",
       " <http.client.HTTPMessage at 0x167fed47730>)"
      ]
     },
     "execution_count": 31,
     "metadata": {},
     "output_type": "execute_result"
    }
   ],
   "source": [
    "# 이미지 파일로 저장\n",
    "# urlretrieve(저장할 이미지의 주소 , 저장할 경로)\n",
    "urlretrieve(img_list[0],\"C:/Users/smhrd/Desktop/포켓몬도감/이상해씨.jpg\")"
   ]
  },
  {
   "cell_type": "code",
   "execution_count": 32,
   "id": "a38e2a93",
   "metadata": {},
   "outputs": [],
   "source": [
    "# 반복문을 사용해서 모든 데이터 저장하기\n",
    "for i in range(len(img_list)):\n",
    "    urlretrieve(img_list[i],\"C:/Users/smhrd/Desktop/포켓몬도감/\"+str(i)+\".jpg\")\n",
    "    time.sleep(1)"
   ]
  },
  {
   "cell_type": "code",
   "execution_count": 22,
   "id": "9ce308e0",
   "metadata": {},
   "outputs": [
    {
     "data": {
      "text/plain": [
       "18"
      ]
     },
     "execution_count": 22,
     "metadata": {},
     "output_type": "execute_result"
    }
   ],
   "source": [
    "len(img_list)"
   ]
  },
  {
   "cell_type": "markdown",
   "id": "712a0839",
   "metadata": {},
   "source": [
    "# 화면에서 자동 스크롤 동작시키기!"
   ]
  },
  {
   "cell_type": "code",
   "execution_count": 23,
   "id": "5e52a017",
   "metadata": {},
   "outputs": [],
   "source": [
    "from selenium.webdriver.common.keys import Keys"
   ]
  },
  {
   "cell_type": "code",
   "execution_count": 33,
   "id": "28df998b",
   "metadata": {},
   "outputs": [],
   "source": [
    "# 키보드의 end키를 사용해서 페이지 내리기(자동 스크롤 진행)\n",
    "body = driver.find_element(By.CSS_SELECTOR,'body')\n",
    "for i in range(20):\n",
    "    body.send_keys(Keys.END)\n",
    "    time.sleep(1)"
   ]
  },
  {
   "cell_type": "code",
   "execution_count": 34,
   "id": "10ef1860",
   "metadata": {},
   "outputs": [
    {
     "data": {
      "text/plain": [
       "<selenium.webdriver.remote.webelement.WebElement (session=\"6c3ee0315d9ad12cb4954c2dd8b899e0\", element=\"63230f70-47d5-43c7-9431-ff884b910797\")>"
      ]
     },
     "execution_count": 34,
     "metadata": {},
     "output_type": "execute_result"
    }
   ],
   "source": [
    "body\n",
    "# 키보드를 제어할떄 사용한다\n",
    "# 화면 전체를 담당한다"
   ]
  },
  {
   "cell_type": "markdown",
   "id": "a2cdab92",
   "metadata": {},
   "source": [
    "- 전체코드"
   ]
  },
  {
   "cell_type": "code",
   "execution_count": 36,
   "id": "b430d739",
   "metadata": {},
   "outputs": [],
   "source": [
    "driver = wb.Chrome()\n",
    "driver.get('https://www.pokemonkorea.co.kr/pokedex#pokedex_1')\n",
    "time.sleep(1)\n",
    "body = driver.find_element(By.CSS_SELECTOR, 'body')\n",
    "for i in range(20):\n",
    "    body.send_keys(Keys.END)\n",
    "    time.sleep(1)\n",
    "soup = bs(driver.page_source, 'lxml')\n",
    "img = soup.select('div.img > div > img')\n",
    "img_list = []\n",
    "for i in range(40):\n",
    "    img_list.append(img[i]['src'])\n",
    "for i in range(40):\n",
    "    urlretrieve(img_list[i], \"C:/Users/smhrd/Desktop/포켓몬도감/\"+str(i)+\".jpg\")\n",
    "    time.sleep(1)"
   ]
  },
  {
   "cell_type": "code",
   "execution_count": null,
   "id": "19a4622f",
   "metadata": {},
   "outputs": [],
   "source": []
  },
  {
   "cell_type": "code",
   "execution_count": null,
   "id": "21877955",
   "metadata": {},
   "outputs": [],
   "source": []
  },
  {
   "cell_type": "code",
   "execution_count": null,
   "id": "88222dbe",
   "metadata": {},
   "outputs": [],
   "source": []
  },
  {
   "cell_type": "code",
   "execution_count": null,
   "id": "cd135d16",
   "metadata": {},
   "outputs": [],
   "source": []
  },
  {
   "cell_type": "code",
   "execution_count": null,
   "id": "6ca0ebd7",
   "metadata": {},
   "outputs": [],
   "source": []
  }
 ],
 "metadata": {
  "kernelspec": {
   "display_name": "Python 3 (ipykernel)",
   "language": "python",
   "name": "python3"
  },
  "language_info": {
   "codemirror_mode": {
    "name": "ipython",
    "version": 3
   },
   "file_extension": ".py",
   "mimetype": "text/x-python",
   "name": "python",
   "nbconvert_exporter": "python",
   "pygments_lexer": "ipython3",
   "version": "3.9.12"
  }
 },
 "nbformat": 4,
 "nbformat_minor": 5
}
