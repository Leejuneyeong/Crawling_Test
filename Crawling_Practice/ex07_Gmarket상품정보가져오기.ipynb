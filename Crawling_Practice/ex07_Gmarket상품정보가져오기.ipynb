{
 "cells": [
  {
   "cell_type": "code",
   "execution_count": 76,
   "id": "feaed2f9",
   "metadata": {},
   "outputs": [],
   "source": [
    "# 라이브러리 불러오기\n",
    "# webdriver : 웹브라우저를 '통제' 하기 위한 라이브러리\n",
    "# Keys : 웹에게 값을 '입력'하기 위한 라이브러리\n",
    "from selenium import webdriver as wb\n",
    "# webdriver 웹 브라우저를 통제하기 위한 라이브러리\n",
    "from selenium.webdriver.common.keys import Keys\n",
    "# Keys 웹을 통해서 값을 \"입력\"하기 위한 라이브러리 >> 컴퓨터용 키보드\n",
    "from selenium.webdriver.common.by import By\n",
    "#해당하는 요소를 element변수에 저장할 수 있다\n",
    "from bs4 import BeautifulSoup as bs\n",
    "import time\n",
    "import pandas as pd"
   ]
  },
  {
   "cell_type": "code",
   "execution_count": 54,
   "id": "94a190da",
   "metadata": {},
   "outputs": [],
   "source": [
    "# 1.Chrome 브라우저 실행하기\n",
    "driver=wb.Chrome()\n",
    "# 1.1 Gmarket 사이트 이동\n",
    "driver.get('http://corners.gmarket.co.kr/Bestsellers')"
   ]
  },
  {
   "cell_type": "code",
   "execution_count": 55,
   "id": "f0e6b0b6",
   "metadata": {},
   "outputs": [],
   "source": [
    "# 2. 첫 번째 상품을 클릭해서 페이지 이동\n",
    "# 힌트 : 상품의 이미지를 클릭해서 이동!\n",
    "img = driver.find_elements(By.CSS_SELECTOR,'img.lazy')\n",
    "# 드라이버에서 버튼을 클릭하기 위해서 driver에서 찾아야함 \n",
    "img[0].click()"
   ]
  },
  {
   "cell_type": "code",
   "execution_count": 64,
   "id": "f479881d",
   "metadata": {},
   "outputs": [
    {
     "name": "stdout",
     "output_type": "stream",
     "text": [
      "소문난오부자 파래도시락김5g 72봉 최근생산  18,900원 김\n"
     ]
    }
   ],
   "source": [
    "# bs 객체화\n",
    "soup = bs(driver.page_source,'lxml')\n",
    "# 3.1 상품의 이름 정보 수집\n",
    "name = soup.select_one('h1.itemtit').text\n",
    "# 그냥 select만 하면 너무 많아서 오류 걸림 select_one 하자 \n",
    "# 3.2 상품의 가격 정보 수집\n",
    "price = soup.select_one('strong.price_real').text\n",
    "# 3.3 상품의 마지막 카테고리 수집\n",
    "cate = soup.select_one('li.on > a').text\n",
    "print(name, price, cate)"
   ]
  },
  {
   "cell_type": "code",
   "execution_count": 66,
   "id": "252a8ee8",
   "metadata": {},
   "outputs": [],
   "source": [
    "#4. 페이지 뒤로가기 실행 (브라우저에 있는 기능임 그래서 driver 써야함)\n",
    "driver.back()"
   ]
  },
  {
   "cell_type": "markdown",
   "id": "0c33bee1",
   "metadata": {},
   "source": [
    "# 1번부터 10번까지 데이터 수집하는 코드\n"
   ]
  },
  {
   "cell_type": "code",
   "execution_count": 80,
   "id": "d1b8c385",
   "metadata": {
    "scrolled": true
   },
   "outputs": [
    {
     "ename": "WebDriverException",
     "evalue": "Message: unknown error: cannot determine loading status\nfrom unknown error: unexpected command response\n  (Session info: chrome=103.0.5060.114)\nStacktrace:\nBacktrace:\n\tOrdinal0 [0x003A6463+2188387]\n\tOrdinal0 [0x0033E461+1762401]\n\tOrdinal0 [0x00253D78+802168]\n\tOrdinal0 [0x00247210+750096]\n\tOrdinal0 [0x0024675A+747354]\n\tOrdinal0 [0x00245D3F+744767]\n\tOrdinal0 [0x00244C28+740392]\n\tOrdinal0 [0x00245228+741928]\n\tOrdinal0 [0x0024EF2F+782127]\n\tOrdinal0 [0x00259FBB+827323]\n\tOrdinal0 [0x0025D310+840464]\n\tOrdinal0 [0x002454F6+742646]\n\tOrdinal0 [0x00259BF3+826355]\n\tOrdinal0 [0x002ACF6D+1167213]\n\tOrdinal0 [0x0029C5F6+1099254]\n\tOrdinal0 [0x00276BE0+945120]\n\tOrdinal0 [0x00277AD6+948950]\n\tGetHandleVerifier [0x006471F2+2712546]\n\tGetHandleVerifier [0x0063886D+2652765]\n\tGetHandleVerifier [0x0043002A+520730]\n\tGetHandleVerifier [0x0042EE06+516086]\n\tOrdinal0 [0x0034468B+1787531]\n\tOrdinal0 [0x00348E88+1805960]\n\tOrdinal0 [0x00348F75+1806197]\n\tOrdinal0 [0x00351DF1+1842673]\n\tBaseThreadInitThunk [0x7640FA29+25]\n\tRtlGetAppContainerNamedObjectPath [0x77857A9E+286]\n\tRtlGetAppContainerNamedObjectPath [0x77857A6E+238]\n",
     "output_type": "error",
     "traceback": [
      "\u001b[1;31m---------------------------------------------------------------------------\u001b[0m",
      "\u001b[1;31mWebDriverException\u001b[0m                        Traceback (most recent call last)",
      "Input \u001b[1;32mIn [80]\u001b[0m, in \u001b[0;36m<cell line: 10>\u001b[1;34m()\u001b[0m\n\u001b[0;32m     10\u001b[0m \u001b[38;5;28;01mfor\u001b[39;00m i \u001b[38;5;129;01min\u001b[39;00m \u001b[38;5;28mrange\u001b[39m(\u001b[38;5;241m3\u001b[39m):\n\u001b[0;32m     11\u001b[0m     img \u001b[38;5;241m=\u001b[39m driver\u001b[38;5;241m.\u001b[39mfind_elements(By\u001b[38;5;241m.\u001b[39mCSS_SELECTOR,\u001b[38;5;124m'\u001b[39m\u001b[38;5;124mimg.lazy\u001b[39m\u001b[38;5;124m'\u001b[39m)\n\u001b[1;32m---> 12\u001b[0m     \u001b[43mimg\u001b[49m\u001b[43m[\u001b[49m\u001b[43mi\u001b[49m\u001b[43m]\u001b[49m\u001b[38;5;241;43m.\u001b[39;49m\u001b[43mclick\u001b[49m\u001b[43m(\u001b[49m\u001b[43m)\u001b[49m\n\u001b[0;32m     13\u001b[0m     time\u001b[38;5;241m.\u001b[39msleep(\u001b[38;5;241m2\u001b[39m)\n\u001b[0;32m     15\u001b[0m     soup \u001b[38;5;241m=\u001b[39m bs(driver\u001b[38;5;241m.\u001b[39mpage_source,\u001b[38;5;124m'\u001b[39m\u001b[38;5;124mlxml\u001b[39m\u001b[38;5;124m'\u001b[39m)\n",
      "File \u001b[1;32m~\\anaconda3\\lib\\site-packages\\selenium\\webdriver\\remote\\webelement.py:88\u001b[0m, in \u001b[0;36mWebElement.click\u001b[1;34m(self)\u001b[0m\n\u001b[0;32m     86\u001b[0m \u001b[38;5;28;01mdef\u001b[39;00m \u001b[38;5;21mclick\u001b[39m(\u001b[38;5;28mself\u001b[39m) \u001b[38;5;241m-\u001b[39m\u001b[38;5;241m>\u001b[39m \u001b[38;5;28;01mNone\u001b[39;00m:\n\u001b[0;32m     87\u001b[0m     \u001b[38;5;124;03m\"\"\"Clicks the element.\"\"\"\u001b[39;00m\n\u001b[1;32m---> 88\u001b[0m     \u001b[38;5;28;43mself\u001b[39;49m\u001b[38;5;241;43m.\u001b[39;49m\u001b[43m_execute\u001b[49m\u001b[43m(\u001b[49m\u001b[43mCommand\u001b[49m\u001b[38;5;241;43m.\u001b[39;49m\u001b[43mCLICK_ELEMENT\u001b[49m\u001b[43m)\u001b[49m\n",
      "File \u001b[1;32m~\\anaconda3\\lib\\site-packages\\selenium\\webdriver\\remote\\webelement.py:396\u001b[0m, in \u001b[0;36mWebElement._execute\u001b[1;34m(self, command, params)\u001b[0m\n\u001b[0;32m    394\u001b[0m     params \u001b[38;5;241m=\u001b[39m {}\n\u001b[0;32m    395\u001b[0m params[\u001b[38;5;124m'\u001b[39m\u001b[38;5;124mid\u001b[39m\u001b[38;5;124m'\u001b[39m] \u001b[38;5;241m=\u001b[39m \u001b[38;5;28mself\u001b[39m\u001b[38;5;241m.\u001b[39m_id\n\u001b[1;32m--> 396\u001b[0m \u001b[38;5;28;01mreturn\u001b[39;00m \u001b[38;5;28;43mself\u001b[39;49m\u001b[38;5;241;43m.\u001b[39;49m\u001b[43m_parent\u001b[49m\u001b[38;5;241;43m.\u001b[39;49m\u001b[43mexecute\u001b[49m\u001b[43m(\u001b[49m\u001b[43mcommand\u001b[49m\u001b[43m,\u001b[49m\u001b[43m \u001b[49m\u001b[43mparams\u001b[49m\u001b[43m)\u001b[49m\n",
      "File \u001b[1;32m~\\anaconda3\\lib\\site-packages\\selenium\\webdriver\\remote\\webdriver.py:435\u001b[0m, in \u001b[0;36mWebDriver.execute\u001b[1;34m(self, driver_command, params)\u001b[0m\n\u001b[0;32m    433\u001b[0m response \u001b[38;5;241m=\u001b[39m \u001b[38;5;28mself\u001b[39m\u001b[38;5;241m.\u001b[39mcommand_executor\u001b[38;5;241m.\u001b[39mexecute(driver_command, params)\n\u001b[0;32m    434\u001b[0m \u001b[38;5;28;01mif\u001b[39;00m response:\n\u001b[1;32m--> 435\u001b[0m     \u001b[38;5;28;43mself\u001b[39;49m\u001b[38;5;241;43m.\u001b[39;49m\u001b[43merror_handler\u001b[49m\u001b[38;5;241;43m.\u001b[39;49m\u001b[43mcheck_response\u001b[49m\u001b[43m(\u001b[49m\u001b[43mresponse\u001b[49m\u001b[43m)\u001b[49m\n\u001b[0;32m    436\u001b[0m     response[\u001b[38;5;124m'\u001b[39m\u001b[38;5;124mvalue\u001b[39m\u001b[38;5;124m'\u001b[39m] \u001b[38;5;241m=\u001b[39m \u001b[38;5;28mself\u001b[39m\u001b[38;5;241m.\u001b[39m_unwrap_value(\n\u001b[0;32m    437\u001b[0m         response\u001b[38;5;241m.\u001b[39mget(\u001b[38;5;124m'\u001b[39m\u001b[38;5;124mvalue\u001b[39m\u001b[38;5;124m'\u001b[39m, \u001b[38;5;28;01mNone\u001b[39;00m))\n\u001b[0;32m    438\u001b[0m     \u001b[38;5;28;01mreturn\u001b[39;00m response\n",
      "File \u001b[1;32m~\\anaconda3\\lib\\site-packages\\selenium\\webdriver\\remote\\errorhandler.py:247\u001b[0m, in \u001b[0;36mErrorHandler.check_response\u001b[1;34m(self, response)\u001b[0m\n\u001b[0;32m    245\u001b[0m         alert_text \u001b[38;5;241m=\u001b[39m value[\u001b[38;5;124m'\u001b[39m\u001b[38;5;124malert\u001b[39m\u001b[38;5;124m'\u001b[39m]\u001b[38;5;241m.\u001b[39mget(\u001b[38;5;124m'\u001b[39m\u001b[38;5;124mtext\u001b[39m\u001b[38;5;124m'\u001b[39m)\n\u001b[0;32m    246\u001b[0m     \u001b[38;5;28;01mraise\u001b[39;00m exception_class(message, screen, stacktrace, alert_text)  \u001b[38;5;66;03m# type: ignore[call-arg]  # mypy is not smart enough here\u001b[39;00m\n\u001b[1;32m--> 247\u001b[0m \u001b[38;5;28;01mraise\u001b[39;00m exception_class(message, screen, stacktrace)\n",
      "\u001b[1;31mWebDriverException\u001b[0m: Message: unknown error: cannot determine loading status\nfrom unknown error: unexpected command response\n  (Session info: chrome=103.0.5060.114)\nStacktrace:\nBacktrace:\n\tOrdinal0 [0x003A6463+2188387]\n\tOrdinal0 [0x0033E461+1762401]\n\tOrdinal0 [0x00253D78+802168]\n\tOrdinal0 [0x00247210+750096]\n\tOrdinal0 [0x0024675A+747354]\n\tOrdinal0 [0x00245D3F+744767]\n\tOrdinal0 [0x00244C28+740392]\n\tOrdinal0 [0x00245228+741928]\n\tOrdinal0 [0x0024EF2F+782127]\n\tOrdinal0 [0x00259FBB+827323]\n\tOrdinal0 [0x0025D310+840464]\n\tOrdinal0 [0x002454F6+742646]\n\tOrdinal0 [0x00259BF3+826355]\n\tOrdinal0 [0x002ACF6D+1167213]\n\tOrdinal0 [0x0029C5F6+1099254]\n\tOrdinal0 [0x00276BE0+945120]\n\tOrdinal0 [0x00277AD6+948950]\n\tGetHandleVerifier [0x006471F2+2712546]\n\tGetHandleVerifier [0x0063886D+2652765]\n\tGetHandleVerifier [0x0043002A+520730]\n\tGetHandleVerifier [0x0042EE06+516086]\n\tOrdinal0 [0x0034468B+1787531]\n\tOrdinal0 [0x00348E88+1805960]\n\tOrdinal0 [0x00348F75+1806197]\n\tOrdinal0 [0x00351DF1+1842673]\n\tBaseThreadInitThunk [0x7640FA29+25]\n\tRtlGetAppContainerNamedObjectPath [0x77857A9E+286]\n\tRtlGetAppContainerNamedObjectPath [0x77857A6E+238]\n"
     ]
    }
   ],
   "source": [
    "driver=wb.Chrome()\n",
    "driver.get('http://corners.gmarket.co.kr/Bestsellers')\n",
    "time.sleep(2)\n",
    "\n",
    "name_list = [] \n",
    "price_list = []\n",
    "cate_list = []\n",
    "\n",
    "#반복문을 썼으면 time.sleep()을 써주자\n",
    "for i in range(3):\n",
    "    img = driver.find_elements(By.CSS_SELECTOR,'img.lazy')\n",
    "    img[i].click()\n",
    "    time.sleep(2)\n",
    "    \n",
    "    soup = bs(driver.page_source,'lxml')\n",
    "    name = soup.select_one('h1.itemtit').text\n",
    "    price = soup.select_one('strong.price_real').text\n",
    "    cate = soup.select_one('li.on > a').text\n",
    "\n",
    "    name_list.append(name)\n",
    "    price_list.append(price)\n",
    "    cate_list.append(cate)\n",
    "    \n",
    "    driver.back()\n",
    "    time.sleep(2) # 새로운 파일을 로딩해주니까 타이머를 줌"
   ]
  },
  {
   "cell_type": "code",
   "execution_count": null,
   "id": "19967b56",
   "metadata": {},
   "outputs": [],
   "source": [
    "# 페이지가 다시 로딩이 되면 페이지 정보가 변경되었다는 의미!\n",
    "# 페이지 정보를 다시 받아왔으므로 태그정보 또한 다시한번 알려줘야 한다.!"
   ]
  },
  {
   "cell_type": "code",
   "execution_count": null,
   "id": "af2e733f",
   "metadata": {},
   "outputs": [],
   "source": [
    "# 쉬는 시간 언제주지?\n",
    "# 페이지가 다시 새로 로딩된 후에 쉬는시간을 준다\n",
    "# client 와 server 가 정보를 주고받은 직후!"
   ]
  },
  {
   "cell_type": "code",
   "execution_count": 81,
   "id": "4d34828b",
   "metadata": {},
   "outputs": [
    {
     "data": {
      "text/plain": [
       "['소문난오부자 파래도시락김5g 72봉 최근생산 ', '찰옥수수 25개 15cm이상(22년수확)남도/쿠폰가15210원 ']"
      ]
     },
     "execution_count": 81,
     "metadata": {},
     "output_type": "execute_result"
    }
   ],
   "source": [
    "name_list"
   ]
  },
  {
   "cell_type": "code",
   "execution_count": 82,
   "id": "140970c0",
   "metadata": {},
   "outputs": [
    {
     "data": {
      "text/html": [
       "<div>\n",
       "<style scoped>\n",
       "    .dataframe tbody tr th:only-of-type {\n",
       "        vertical-align: middle;\n",
       "    }\n",
       "\n",
       "    .dataframe tbody tr th {\n",
       "        vertical-align: top;\n",
       "    }\n",
       "\n",
       "    .dataframe thead th {\n",
       "        text-align: right;\n",
       "    }\n",
       "</style>\n",
       "<table border=\"1\" class=\"dataframe\">\n",
       "  <thead>\n",
       "    <tr style=\"text-align: right;\">\n",
       "      <th></th>\n",
       "      <th>상품명</th>\n",
       "      <th>가격</th>\n",
       "      <th>카테고리</th>\n",
       "    </tr>\n",
       "  </thead>\n",
       "  <tbody>\n",
       "    <tr>\n",
       "      <th>0</th>\n",
       "      <td>소문난오부자 파래도시락김5g 72봉 최근생산</td>\n",
       "      <td>18,900원</td>\n",
       "      <td>김</td>\n",
       "    </tr>\n",
       "    <tr>\n",
       "      <th>1</th>\n",
       "      <td>찰옥수수 25개 15cm이상(22년수확)남도/쿠폰가15210원</td>\n",
       "      <td>16,900원</td>\n",
       "      <td>옥수수</td>\n",
       "    </tr>\n",
       "  </tbody>\n",
       "</table>\n",
       "</div>"
      ],
      "text/plain": [
       "                                   상품명       가격 카테고리\n",
       "0            소문난오부자 파래도시락김5g 72봉 최근생산   18,900원    김\n",
       "1  찰옥수수 25개 15cm이상(22년수확)남도/쿠폰가15210원   16,900원  옥수수"
      ]
     },
     "execution_count": 82,
     "metadata": {},
     "output_type": "execute_result"
    }
   ],
   "source": [
    "#데이터 프레임으로 만들어주자!\n",
    "dic = {'상품명':name_list,'가격':price_list,'카테고리':cate_list}\n",
    "gmarket = pd.DataFrame(dic)\n",
    "gmarket"
   ]
  },
  {
   "cell_type": "code",
   "execution_count": 84,
   "id": "c23fecf4",
   "metadata": {},
   "outputs": [],
   "source": [
    "gmarket.to_csv(\"지마켓.csv\",encoding=\"cp949\")"
   ]
  },
  {
   "cell_type": "code",
   "execution_count": null,
   "id": "c628547f",
   "metadata": {},
   "outputs": [],
   "source": []
  }
 ],
 "metadata": {
  "kernelspec": {
   "display_name": "Python 3 (ipykernel)",
   "language": "python",
   "name": "python3"
  },
  "language_info": {
   "codemirror_mode": {
    "name": "ipython",
    "version": 3
   },
   "file_extension": ".py",
   "mimetype": "text/x-python",
   "name": "python",
   "nbconvert_exporter": "python",
   "pygments_lexer": "ipython3",
   "version": "3.9.12"
  }
 },
 "nbformat": 4,
 "nbformat_minor": 5
}
