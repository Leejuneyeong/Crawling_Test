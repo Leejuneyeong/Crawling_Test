{
 "cells": [
  {
   "cell_type": "markdown",
   "id": "e943b8e4",
   "metadata": {},
   "source": [
    "# requests 라이브러리 사용법"
   ]
  },
  {
   "cell_type": "code",
   "execution_count": 1,
   "id": "ad2e241e",
   "metadata": {},
   "outputs": [],
   "source": [
    "#라이브러리 불러오기\n",
    "import requests as req\n",
    "#서버에게 데이터를 요청하여 응답받기 위한 라이브러리이다!"
   ]
  },
  {
   "cell_type": "code",
   "execution_count": 2,
   "id": "568f9bf6",
   "metadata": {},
   "outputs": [],
   "source": [
    "res=req.get('https://www.naver.com/')\n",
    "#response[200] : 성공적으로 응답받았다는 의미\n",
    "#response[400] : 클라이언트(요청)부분에서 오류가 발생할 때\n",
    "#response[500] : 서버(응답)쪽에서 문제가 발생할 때"
   ]
  },
  {
   "cell_type": "code",
   "execution_count": 3,
   "id": "a6e19222",
   "metadata": {},
   "outputs": [
    {
     "data": {
      "text/plain": [
       "<Response [200]>"
      ]
     },
     "execution_count": 3,
     "metadata": {},
     "output_type": "execute_result"
    }
   ],
   "source": [
    "res"
   ]
  },
  {
   "cell_type": "code",
   "execution_count": 4,
   "id": "6aa741de",
   "metadata": {
    "scrolled": true
   },
   "outputs": [],
   "source": [
    "# res의 텍스트를 보겠다.\n",
    "#res.text "
   ]
  },
  {
   "cell_type": "markdown",
   "id": "d4ca121a",
   "metadata": {},
   "source": [
    "# melon 페이지 가져오기"
   ]
  },
  {
   "cell_type": "code",
   "execution_count": 7,
   "id": "3fdff052",
   "metadata": {},
   "outputs": [],
   "source": [
    "# 컴퓨터 코드가 아니라 브라우저인척 속이는 작업 \n",
    "# User-Agent : key 값\n",
    "# 딕셔너리로 묶어줌 {key : value}\n",
    "h = {'User-Agent': 'Mozilla/5.0 (Windows NT 10.0; Win64; x64) AppleWebKit/537.36 (KHTML, like Gecko) Chrome/103.0.0.0 Safari/537.36'}"
   ]
  },
  {
   "cell_type": "code",
   "execution_count": 8,
   "id": "8384cea0",
   "metadata": {},
   "outputs": [],
   "source": [
    "url='https://www.melon.com/'\n",
    "res = req.get(url,headers = h)\n",
    "# 멜론에서 브라우저가 아닌 파이썬 코드로 접근한것을 인지했기 때문에 거절당함"
   ]
  },
  {
   "cell_type": "code",
   "execution_count": 9,
   "id": "19486a93",
   "metadata": {},
   "outputs": [],
   "source": [
    "#출력\n",
    "#res.text "
   ]
  },
  {
   "cell_type": "markdown",
   "id": "a612ef24",
   "metadata": {},
   "source": [
    "# 네이버 페이지에서 메일,뉴스 블로그 ,,, 글자 수집하기"
   ]
  },
  {
   "cell_type": "code",
   "execution_count": 10,
   "id": "c711a47b",
   "metadata": {},
   "outputs": [],
   "source": [
    "# 1. 페이지 정보를 받아온다\n",
    "url = 'https://www.naver.com/'\n",
    "res =req.get(url)"
   ]
  },
  {
   "cell_type": "code",
   "execution_count": 11,
   "id": "de721af5",
   "metadata": {},
   "outputs": [
    {
     "data": {
      "text/plain": [
       "<Response [200]>"
      ]
     },
     "execution_count": 11,
     "metadata": {},
     "output_type": "execute_result"
    }
   ],
   "source": [
    "res"
   ]
  },
  {
   "cell_type": "code",
   "execution_count": 12,
   "id": "4ecc3575",
   "metadata": {},
   "outputs": [],
   "source": [
    "#res.text"
   ]
  },
  {
   "cell_type": "markdown",
   "id": "e0b196c1",
   "metadata": {},
   "source": [
    "# BeautifulSoup 사용하기\n",
    "- 컴퓨터가 이해할 수 있는 언어로 변경해주는 라이브러리"
   ]
  },
  {
   "cell_type": "code",
   "execution_count": 13,
   "id": "21473ca3",
   "metadata": {},
   "outputs": [],
   "source": [
    "# 2. 뉴스, 블로그 등과같은 글자를 수집한다.\n",
    "# 2.1 : 컴퓨터가 이해할 수 있는 html 언어로 변경을 해줘야 한다! -> parsing\n",
    "# BeautifulSoup 라이브러리\n",
    "# 단축키 : tab\n",
    "from bs4 import BeautifulSoup as bs"
   ]
  },
  {
   "cell_type": "code",
   "execution_count": 14,
   "id": "8a8641f2",
   "metadata": {},
   "outputs": [],
   "source": [
    "#res.text"
   ]
  },
  {
   "cell_type": "code",
   "execution_count": 15,
   "id": "322bb075",
   "metadata": {},
   "outputs": [],
   "source": [
    "#bs(parsing 할 데이터 , parsing 방법)\n",
    "soup = bs(res.text , 'lxml') # 더이상 문자열 데이터가 아닌 html 데이터이다"
   ]
  },
  {
   "cell_type": "code",
   "execution_count": 17,
   "id": "bb45e726",
   "metadata": {},
   "outputs": [],
   "source": [
    "#soup"
   ]
  },
  {
   "cell_type": "markdown",
   "id": "fa784df2",
   "metadata": {},
   "source": [
    "### 태그 위치 찾는 방법 (2가지)\n",
    "- 1. 내가 가져오고 싶은 컨텐츠 위에 마우스 우클릭 -> 검사\n",
    "- 2. 개발자모드에서 상단에 커서모양 클릭 후에 가져오고 싶은 컨텐츠 클릭!"
   ]
  },
  {
   "cell_type": "code",
   "execution_count": 18,
   "id": "2ebd3f19",
   "metadata": {
    "scrolled": true
   },
   "outputs": [],
   "source": [
    "# a태그를 가져오는 방법\n",
    "# soup.select('a')\n",
    "# 페이지에 있는 모든 a태그를 가져와버림...."
   ]
  },
  {
   "cell_type": "code",
   "execution_count": 19,
   "id": "a791764e",
   "metadata": {},
   "outputs": [
    {
     "data": {
      "text/plain": [
       "[<a class=\"nav\" data-clk=\"svc.mail\" href=\"https://mail.naver.com/\"><i class=\"ico_mail\"></i>메일</a>,\n",
       " <a class=\"nav\" data-clk=\"svc.cafe\" href=\"https://section.cafe.naver.com/\">카페</a>,\n",
       " <a class=\"nav\" data-clk=\"svc.blog\" href=\"https://section.blog.naver.com/\">블로그</a>,\n",
       " <a class=\"nav\" data-clk=\"svc.kin\" href=\"https://kin.naver.com/\">지식iN</a>,\n",
       " <a class=\"nav shop\" data-clk=\"svc.shopping\" href=\"https://shopping.naver.com/\"><span class=\"blind\">쇼핑</span></a>,\n",
       " <a class=\"nav shoplive\" data-clk=\"svc.shoppinglive\" href=\"https://shoppinglive.naver.com/home\"><span class=\"blind\">쇼핑LIVE</span></a>,\n",
       " <a class=\"nav\" data-clk=\"svc.pay\" href=\"https://order.pay.naver.com/home\">Pay</a>,\n",
       " <a class=\"nav\" data-clk=\"svc.tvcast\" href=\"https://tv.naver.com/\"><i class=\"ico_tv\"></i>TV</a>,\n",
       " <a class=\"nav\" data-clk=\"svc.dic\" href=\"https://dict.naver.com/\">사전</a>,\n",
       " <a class=\"nav\" data-clk=\"svc.news\" href=\"https://news.naver.com/\">뉴스</a>,\n",
       " <a class=\"nav\" data-clk=\"svc.stock\" href=\"https://finance.naver.com/\">증권</a>,\n",
       " <a class=\"nav\" data-clk=\"svc.land\" href=\"https://land.naver.com/\">부동산</a>,\n",
       " <a class=\"nav\" data-clk=\"svc.map\" href=\"https://map.naver.com/\">지도</a>,\n",
       " <a class=\"nav\" data-clk=\"svc.vibe\" href=\"https://vibe.naver.com/\">VIBE</a>,\n",
       " <a class=\"nav\" data-clk=\"svc.book\" href=\"https://book.naver.com/\">책</a>,\n",
       " <a class=\"nav\" data-clk=\"svc.webtoon\" href=\"https://comic.naver.com/\">웹툰</a>]"
      ]
     },
     "execution_count": 19,
     "metadata": {},
     "output_type": "execute_result"
    }
   ],
   "source": [
    "# a태그중에 클래스가 nav인 애들을 대려와보자 ( . = a 태그의 클래스인 nav // class는 . id는 #)\n",
    "soup.select('a.nav')"
   ]
  },
  {
   "cell_type": "code",
   "execution_count": 20,
   "id": "1a8af8d0",
   "metadata": {},
   "outputs": [
    {
     "data": {
      "text/plain": [
       "<a class=\"nav\" data-clk=\"svc.blog\" href=\"https://section.blog.naver.com/\">블로그</a>"
      ]
     },
     "execution_count": 20,
     "metadata": {},
     "output_type": "execute_result"
    }
   ],
   "source": [
    "soup.select('a.nav')[2] # 특정 태그 애들만 가져옴"
   ]
  },
  {
   "cell_type": "code",
   "execution_count": 21,
   "id": "80b95e08",
   "metadata": {},
   "outputs": [
    {
     "data": {
      "text/plain": [
       "<a class=\"nav\" data-clk=\"svc.mail\" href=\"https://mail.naver.com/\"><i class=\"ico_mail\"></i>메일</a>"
      ]
     },
     "execution_count": 21,
     "metadata": {},
     "output_type": "execute_result"
    }
   ],
   "source": [
    "# 가장 상단의 데이터를 하나만 가져오는 코드!\n",
    "soup.select_one('a.nav') # 첫번 째 태그 1개만 가져옴"
   ]
  },
  {
   "cell_type": "code",
   "execution_count": 22,
   "id": "369641de",
   "metadata": {},
   "outputs": [
    {
     "data": {
      "text/plain": [
       "'메일'"
      ]
     },
     "execution_count": 22,
     "metadata": {},
     "output_type": "execute_result"
    }
   ],
   "source": [
    "# 가장 상단의 데이터를 하나만 가져오는데 글씨만 가져오는거 \n",
    "soup.select_one('a.nav').text"
   ]
  },
  {
   "cell_type": "code",
   "execution_count": 23,
   "id": "2c795c1b",
   "metadata": {},
   "outputs": [
    {
     "ename": "AttributeError",
     "evalue": "ResultSet object has no attribute 'text'. You're probably treating a list of elements like a single element. Did you call find_all() when you meant to call find()?",
     "output_type": "error",
     "traceback": [
      "\u001b[1;31m---------------------------------------------------------------------------\u001b[0m",
      "\u001b[1;31mAttributeError\u001b[0m                            Traceback (most recent call last)",
      "Input \u001b[1;32mIn [23]\u001b[0m, in \u001b[0;36m<cell line: 1>\u001b[1;34m()\u001b[0m\n\u001b[1;32m----> 1\u001b[0m \u001b[43msoup\u001b[49m\u001b[38;5;241;43m.\u001b[39;49m\u001b[43mselect\u001b[49m\u001b[43m(\u001b[49m\u001b[38;5;124;43m'\u001b[39;49m\u001b[38;5;124;43ma.nav\u001b[39;49m\u001b[38;5;124;43m'\u001b[39;49m\u001b[43m)\u001b[49m\u001b[38;5;241;43m.\u001b[39;49m\u001b[43mtext\u001b[49m\n",
      "File \u001b[1;32m~\\anaconda3\\lib\\site-packages\\bs4\\element.py:2289\u001b[0m, in \u001b[0;36mResultSet.__getattr__\u001b[1;34m(self, key)\u001b[0m\n\u001b[0;32m   2287\u001b[0m \u001b[38;5;28;01mdef\u001b[39;00m \u001b[38;5;21m__getattr__\u001b[39m(\u001b[38;5;28mself\u001b[39m, key):\n\u001b[0;32m   2288\u001b[0m     \u001b[38;5;124;03m\"\"\"Raise a helpful exception to explain a common code fix.\"\"\"\u001b[39;00m\n\u001b[1;32m-> 2289\u001b[0m     \u001b[38;5;28;01mraise\u001b[39;00m \u001b[38;5;167;01mAttributeError\u001b[39;00m(\n\u001b[0;32m   2290\u001b[0m         \u001b[38;5;124m\"\u001b[39m\u001b[38;5;124mResultSet object has no attribute \u001b[39m\u001b[38;5;124m'\u001b[39m\u001b[38;5;132;01m%s\u001b[39;00m\u001b[38;5;124m'\u001b[39m\u001b[38;5;124m. You\u001b[39m\u001b[38;5;124m'\u001b[39m\u001b[38;5;124mre probably treating a list of elements like a single element. Did you call find_all() when you meant to call find()?\u001b[39m\u001b[38;5;124m\"\u001b[39m \u001b[38;5;241m%\u001b[39m key\n\u001b[0;32m   2291\u001b[0m     )\n",
      "\u001b[1;31mAttributeError\u001b[0m: ResultSet object has no attribute 'text'. You're probably treating a list of elements like a single element. Did you call find_all() when you meant to call find()?"
     ]
    }
   ],
   "source": [
    "soup.select('a.nav').text #여러개일 때는 안됨 "
   ]
  },
  {
   "cell_type": "code",
   "execution_count": 24,
   "id": "f45a2b02",
   "metadata": {},
   "outputs": [
    {
     "data": {
      "text/plain": [
       "'블로그'"
      ]
     },
     "execution_count": 24,
     "metadata": {},
     "output_type": "execute_result"
    }
   ],
   "source": [
    "soup.select('a.nav')[2].text # 이렇게 해야댐"
   ]
  },
  {
   "cell_type": "markdown",
   "id": "ce785cf7",
   "metadata": {},
   "source": [
    "# 데이터 수집 실습 \n",
    "- 네이버 날씨에서 온도 데이터 가져오기"
   ]
  },
  {
   "cell_type": "code",
   "execution_count": 25,
   "id": "32873cc1",
   "metadata": {},
   "outputs": [],
   "source": [
    "#1. 페이지 정보 받아오기\n",
    "#2. 컴퓨터가 이해할 수 있도록 컴퓨터 언어로 변경하는 bs 객체화 진행\n",
    "#3. 태그 선택하기\n",
    "#4. 컨텐츠만 출력해주기"
   ]
  },
  {
   "cell_type": "code",
   "execution_count": 26,
   "id": "a8846826",
   "metadata": {},
   "outputs": [],
   "source": [
    "url = 'https://search.naver.com/search.naver?where=nexearch&sm=top_hty&fbm=1&ie=utf8&query=%EB%82%A0%EC%94%A8'\n",
    "res1 =req.get(url)"
   ]
  },
  {
   "cell_type": "code",
   "execution_count": 27,
   "id": "d43f5826",
   "metadata": {},
   "outputs": [
    {
     "data": {
      "text/plain": [
       "<Response [200]>"
      ]
     },
     "execution_count": 27,
     "metadata": {},
     "output_type": "execute_result"
    }
   ],
   "source": [
    "res1"
   ]
  },
  {
   "cell_type": "code",
   "execution_count": 28,
   "id": "9bcfbbd3",
   "metadata": {},
   "outputs": [],
   "source": [
    "#res1.text"
   ]
  },
  {
   "cell_type": "code",
   "execution_count": 29,
   "id": "ccaabaaa",
   "metadata": {},
   "outputs": [],
   "source": [
    "soup1 = bs(res1.text , 'lxml') # 컴퓨터가 알아먹을 수 있도록 파싱해줌\n",
    "#soup1"
   ]
  },
  {
   "cell_type": "code",
   "execution_count": 30,
   "id": "5448ee43",
   "metadata": {},
   "outputs": [
    {
     "data": {
      "text/plain": [
       "[<div class=\"temperature_text\"> <strong><span class=\"blind\">현재 온도</span>26.6<span class=\"celsius\">°</span></strong> </div>,\n",
       " <div class=\"temperature_text\"> <strong><span class=\"blind\">예측 온도</span>25<span class=\"celsius\">°</span></strong> </div>,\n",
       " <div class=\"temperature_text\"> <strong><span class=\"blind\">예측 온도</span>32<span class=\"celsius\">°</span></strong> </div>,\n",
       " <div class=\"temperature_text\"> <strong><span class=\"blind\">예측 온도</span>25<span class=\"celsius\">°</span></strong> </div>,\n",
       " <div class=\"temperature_text\"> <strong><span class=\"blind\">예측 온도</span>33<span class=\"celsius\">°</span></strong> </div>]"
      ]
     },
     "execution_count": 30,
     "metadata": {},
     "output_type": "execute_result"
    }
   ],
   "source": [
    "soup1.select('div .temperature_text')"
   ]
  },
  {
   "cell_type": "code",
   "execution_count": 31,
   "id": "d10f07e2",
   "metadata": {},
   "outputs": [
    {
     "data": {
      "text/plain": [
       "<div class=\"temperature_text\"> <strong><span class=\"blind\">현재 온도</span>26.6<span class=\"celsius\">°</span></strong> </div>"
      ]
     },
     "execution_count": 31,
     "metadata": {},
     "output_type": "execute_result"
    }
   ],
   "source": [
    "soup1.select('div .temperature_text')[0]"
   ]
  },
  {
   "cell_type": "code",
   "execution_count": 32,
   "id": "21ee05d3",
   "metadata": {},
   "outputs": [
    {
     "data": {
      "text/plain": [
       "' 현재 온도26.6° '"
      ]
     },
     "execution_count": 32,
     "metadata": {},
     "output_type": "execute_result"
    }
   ],
   "source": [
    "soup1.select('div .temperature_text')[0].text"
   ]
  },
  {
   "cell_type": "code",
   "execution_count": null,
   "id": "848a9534",
   "metadata": {},
   "outputs": [],
   "source": []
  },
  {
   "cell_type": "code",
   "execution_count": null,
   "id": "ee34e26f",
   "metadata": {},
   "outputs": [],
   "source": []
  },
  {
   "cell_type": "code",
   "execution_count": null,
   "id": "19ae232b",
   "metadata": {},
   "outputs": [],
   "source": []
  },
  {
   "cell_type": "code",
   "execution_count": null,
   "id": "6105127f",
   "metadata": {},
   "outputs": [],
   "source": []
  },
  {
   "cell_type": "code",
   "execution_count": null,
   "id": "d0b39b3a",
   "metadata": {},
   "outputs": [],
   "source": []
  },
  {
   "cell_type": "code",
   "execution_count": null,
   "id": "80182fc1",
   "metadata": {},
   "outputs": [],
   "source": []
  },
  {
   "cell_type": "code",
   "execution_count": null,
   "id": "22952f4f",
   "metadata": {},
   "outputs": [],
   "source": []
  },
  {
   "cell_type": "code",
   "execution_count": null,
   "id": "1ca880d3",
   "metadata": {},
   "outputs": [],
   "source": []
  },
  {
   "cell_type": "code",
   "execution_count": null,
   "id": "a8c828ec",
   "metadata": {},
   "outputs": [],
   "source": []
  },
  {
   "cell_type": "code",
   "execution_count": null,
   "id": "c51332d4",
   "metadata": {},
   "outputs": [],
   "source": []
  },
  {
   "cell_type": "code",
   "execution_count": null,
   "id": "a0b66a87",
   "metadata": {},
   "outputs": [],
   "source": []
  },
  {
   "cell_type": "code",
   "execution_count": null,
   "id": "0a951c2d",
   "metadata": {},
   "outputs": [],
   "source": []
  },
  {
   "cell_type": "code",
   "execution_count": null,
   "id": "6822bab1",
   "metadata": {},
   "outputs": [],
   "source": []
  },
  {
   "cell_type": "code",
   "execution_count": null,
   "id": "6093ade3",
   "metadata": {},
   "outputs": [],
   "source": []
  },
  {
   "cell_type": "code",
   "execution_count": null,
   "id": "a8407bd2",
   "metadata": {},
   "outputs": [],
   "source": []
  },
  {
   "cell_type": "code",
   "execution_count": null,
   "id": "8e41a052",
   "metadata": {},
   "outputs": [],
   "source": []
  },
  {
   "cell_type": "code",
   "execution_count": null,
   "id": "1eb31ad7",
   "metadata": {},
   "outputs": [],
   "source": []
  },
  {
   "cell_type": "code",
   "execution_count": null,
   "id": "0e712e35",
   "metadata": {},
   "outputs": [],
   "source": []
  },
  {
   "cell_type": "code",
   "execution_count": null,
   "id": "2fb7c138",
   "metadata": {},
   "outputs": [],
   "source": []
  },
  {
   "cell_type": "code",
   "execution_count": null,
   "id": "89a62e5d",
   "metadata": {},
   "outputs": [],
   "source": []
  },
  {
   "cell_type": "code",
   "execution_count": null,
   "id": "b0b1d9c8",
   "metadata": {},
   "outputs": [],
   "source": []
  },
  {
   "cell_type": "code",
   "execution_count": null,
   "id": "fdf34c96",
   "metadata": {},
   "outputs": [],
   "source": []
  },
  {
   "cell_type": "code",
   "execution_count": null,
   "id": "75b38d56",
   "metadata": {},
   "outputs": [],
   "source": []
  },
  {
   "cell_type": "code",
   "execution_count": null,
   "id": "25942935",
   "metadata": {},
   "outputs": [],
   "source": []
  },
  {
   "cell_type": "code",
   "execution_count": null,
   "id": "846df078",
   "metadata": {},
   "outputs": [],
   "source": []
  }
 ],
 "metadata": {
  "kernelspec": {
   "display_name": "Python 3 (ipykernel)",
   "language": "python",
   "name": "python3"
  },
  "language_info": {
   "codemirror_mode": {
    "name": "ipython",
    "version": 3
   },
   "file_extension": ".py",
   "mimetype": "text/x-python",
   "name": "python",
   "nbconvert_exporter": "python",
   "pygments_lexer": "ipython3",
   "version": "3.9.12"
  }
 },
 "nbformat": 4,
 "nbformat_minor": 5
}
