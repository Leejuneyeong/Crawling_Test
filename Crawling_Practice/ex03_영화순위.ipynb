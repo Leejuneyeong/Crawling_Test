{
 "cells": [
  {
   "cell_type": "code",
   "execution_count": 3,
   "id": "b5cdde70",
   "metadata": {},
   "outputs": [],
   "source": [
    "import requests as req\n",
    "from bs4 import BeautifulSoup as bs\n",
    "import pandas as pd"
   ]
  },
  {
   "cell_type": "code",
   "execution_count": 4,
   "id": "3a32e415",
   "metadata": {},
   "outputs": [
    {
     "data": {
      "text/plain": [
       "<Response [200]>"
      ]
     },
     "execution_count": 4,
     "metadata": {},
     "output_type": "execute_result"
    }
   ],
   "source": [
    "url='https://movie.naver.com/movie/sdb/rank/rmovie.naver?sel=cur&date=20220704'\n",
    "h = {'User-Agent': 'Mozilla/5.0 (Windows NT 10.0; Win64; x64) AppleWebKit/537.36 (KHTML, like Gecko) Chrome/103.0.0.0 Safari/537.36'}\n",
    "res = req.get(url,headers = h)\n",
    "res"
   ]
  },
  {
   "cell_type": "code",
   "execution_count": 5,
   "id": "dfd1aabf",
   "metadata": {},
   "outputs": [],
   "source": [
    "soup = bs(res.text , 'lxml')"
   ]
  },
  {
   "cell_type": "code",
   "execution_count": 8,
   "id": "d6add62c",
   "metadata": {},
   "outputs": [
    {
     "data": {
      "text/plain": [
       "[<a href=\"/movie/bi/mi/basic.naver?code=81888\" title=\"탑건: 매버릭\">탑건: 매버릭</a>,\n",
       " <a href=\"/movie/bi/mi/basic.naver?code=192608\" title=\"범죄도시2\">범죄도시2</a>,\n",
       " <a href=\"/movie/bi/mi/basic.naver?code=87566\" title=\"언터처블: 1%의 우정\">언터처블: 1%의 우정</a>,\n",
       " <a href=\"/movie/bi/mi/basic.naver?code=10101\" title=\"로마의 휴일\">로마의 휴일</a>,\n",
       " <a href=\"/movie/bi/mi/basic.naver?code=29059\" title=\"피아니스트의 전설\">피아니스트의 전설</a>,\n",
       " <a href=\"/movie/bi/mi/basic.naver?code=213733\" title=\"극장판 주술회전 0\">극장판 주술회전 0</a>,\n",
       " <a href=\"/movie/bi/mi/basic.naver?code=144379\" title=\"러빙 빈센트\">러빙 빈센트</a>,\n",
       " <a href=\"/movie/bi/mi/basic.naver?code=201073\" title=\"코다\">코다</a>,\n",
       " <a href=\"/movie/bi/mi/basic.naver?code=208772\" title=\"카시오페아\">카시오페아</a>,\n",
       " <a href=\"/movie/bi/mi/basic.naver?code=36944\" title=\"올드보이\">올드보이</a>,\n",
       " <a href=\"/movie/bi/mi/basic.naver?code=172113\" title=\"이별의 아침에 약속의 꽃을 장식하자\">이별의 아침에 약속의 꽃을 장식하자</a>,\n",
       " <a href=\"/movie/bi/mi/basic.naver?code=10128\" title=\"디어 헌터\">디어 헌터</a>,\n",
       " <a href=\"/movie/bi/mi/basic.naver?code=17059\" title=\"중경삼림\">중경삼림</a>,\n",
       " <a href=\"/movie/bi/mi/basic.naver?code=16571\" title=\"펄프 픽션\">펄프 픽션</a>,\n",
       " <a href=\"/movie/bi/mi/basic.naver?code=50749\" title=\"걸어도 걸어도\">걸어도 걸어도</a>,\n",
       " <a href=\"/movie/bi/mi/basic.naver?code=142730\" title=\"분노\">분노</a>,\n",
       " <a href=\"/movie/bi/mi/basic.naver?code=101950\" title=\"그녀\">그녀</a>,\n",
       " <a href=\"/movie/bi/mi/basic.naver?code=198413\" title=\"헤어질 결심\">헤어질 결심</a>,\n",
       " <a href=\"/movie/bi/mi/basic.naver?code=205623\" title=\"드라이브 마이 카\">드라이브 마이 카</a>,\n",
       " <a href=\"/movie/bi/mi/basic.naver?code=172344\" title=\"신은 죽지 않았다 3: 어둠 속의 빛\">신은 죽지 않았다 3: 어둠 속의 빛</a>,\n",
       " <a href=\"/movie/bi/mi/basic.naver?code=202675\" title=\"우연과 상상\">우연과 상상</a>,\n",
       " <a href=\"/movie/bi/mi/basic.naver?code=31477\" title=\"릴리 슈슈의 모든 것\">릴리 슈슈의 모든 것</a>,\n",
       " <a href=\"/movie/bi/mi/basic.naver?code=206637\" title=\"애프터 양\">애프터 양</a>,\n",
       " <a href=\"/movie/bi/mi/basic.naver?code=90590\" title=\"마스터\">마스터</a>,\n",
       " <a href=\"/movie/bi/mi/basic.naver?code=48747\" title=\"밀양\">밀양</a>,\n",
       " <a href=\"/movie/bi/mi/basic.naver?code=172143\" title=\"철벽선생\">철벽선생</a>,\n",
       " <a href=\"/movie/bi/mi/basic.naver?code=214603\" title=\"버즈 라이트이어\">버즈 라이트이어</a>,\n",
       " <a href=\"/movie/bi/mi/basic.naver?code=45321\" title=\"해운대\">해운대</a>,\n",
       " <a href=\"/movie/bi/mi/basic.naver?code=204768\" title=\"그린 나이트\">그린 나이트</a>,\n",
       " <a href=\"/movie/bi/mi/basic.naver?code=182016\" title=\"닥터 스트레인지: 대혼돈의 멀티버스\">닥터 스트레인지: 대혼돈의 멀티버스</a>,\n",
       " <a href=\"/movie/bi/mi/basic.naver?code=154594\" title=\"은혼\">은혼</a>,\n",
       " <a href=\"/movie/bi/mi/basic.naver?code=216100\" title=\"그대가 조국\">그대가 조국</a>,\n",
       " <a href=\"/movie/bi/mi/basic.naver?code=201701\" title=\"불도저에 탄 소녀\">불도저에 탄 소녀</a>,\n",
       " <a href=\"/movie/bi/mi/basic.naver?code=196367\" title=\"마녀(魔女) Part2. The Other One\">마녀(魔女) Part2. The Other One</a>,\n",
       " <a href=\"/movie/bi/mi/basic.naver?code=59845\" title=\"박쥐\">박쥐</a>,\n",
       " <a href=\"/movie/bi/mi/basic.naver?code=191646\" title=\"쥬라기 월드: 도미니언\">쥬라기 월드: 도미니언</a>,\n",
       " <a href=\"/movie/bi/mi/basic.naver?code=196854\" title=\"브로커\">브로커</a>]"
      ]
     },
     "execution_count": 8,
     "metadata": {},
     "output_type": "execute_result"
    }
   ],
   "source": [
    "soup.select('div.tit5 > a') # > (자식) # 띄어쓰기 (자손)"
   ]
  },
  {
   "cell_type": "code",
   "execution_count": 116,
   "id": "daecacd1",
   "metadata": {},
   "outputs": [],
   "source": [
    "#영화 평점 가져오기!\n",
    "point = soup.select('td.point')"
   ]
  },
  {
   "cell_type": "code",
   "execution_count": 111,
   "id": "31a67023",
   "metadata": {
    "collapsed": true
   },
   "outputs": [
    {
     "name": "stdout",
     "output_type": "stream",
     "text": [
      "0\n",
      "1\n",
      "2\n",
      "3\n",
      "4\n",
      "5\n",
      "6\n",
      "7\n",
      "8\n",
      "9\n",
      "10\n",
      "11\n",
      "12\n",
      "13\n",
      "14\n",
      "15\n",
      "16\n",
      "17\n",
      "18\n",
      "19\n",
      "20\n",
      "21\n",
      "22\n",
      "23\n",
      "24\n",
      "25\n",
      "26\n",
      "27\n",
      "28\n",
      "29\n",
      "30\n",
      "31\n",
      "32\n",
      "33\n",
      "34\n",
      "35\n",
      "36\n"
     ]
    }
   ],
   "source": [
    "for i in range(len(title)):\n",
    "    print(i)"
   ]
  },
  {
   "cell_type": "code",
   "execution_count": 118,
   "id": "68e372cf",
   "metadata": {},
   "outputs": [],
   "source": [
    "title=soup.select('div.tit5 > a') # > (자식) # 띄어쓰기 (자손)"
   ]
  },
  {
   "cell_type": "code",
   "execution_count": 129,
   "id": "d9472334",
   "metadata": {},
   "outputs": [
    {
     "data": {
      "text/plain": [
       "<a href=\"/movie/bi/mi/basic.naver?code=192608\" title=\"범죄도시2\">범죄도시2</a>"
      ]
     },
     "execution_count": 129,
     "metadata": {},
     "output_type": "execute_result"
    }
   ],
   "source": [
    "title[1]"
   ]
  },
  {
   "cell_type": "code",
   "execution_count": 132,
   "id": "f38332c0",
   "metadata": {},
   "outputs": [
    {
     "data": {
      "text/plain": [
       "[<td class=\"point\">9.79</td>,\n",
       " <td class=\"point\">9.46</td>,\n",
       " <td class=\"point\">9.33</td>,\n",
       " <td class=\"point\">9.26</td>,\n",
       " <td class=\"point\">9.25</td>,\n",
       " <td class=\"point\">9.24</td>,\n",
       " <td class=\"point\">9.22</td>,\n",
       " <td class=\"point\">9.13</td>,\n",
       " <td class=\"point\">9.11</td>,\n",
       " <td class=\"point\">9.04</td>,\n",
       " <td class=\"point\">8.97</td>,\n",
       " <td class=\"point\">8.93</td>,\n",
       " <td class=\"point\">8.90</td>,\n",
       " <td class=\"point\">8.76</td>,\n",
       " <td class=\"point\">8.62</td>,\n",
       " <td class=\"point\">8.55</td>,\n",
       " <td class=\"point\">8.52</td>,\n",
       " <td class=\"point\">8.50</td>,\n",
       " <td class=\"point\">8.40</td>,\n",
       " <td class=\"point\">8.32</td>,\n",
       " <td class=\"point\">8.15</td>,\n",
       " <td class=\"point\">8.12</td>,\n",
       " <td class=\"point\">8.08</td>,\n",
       " <td class=\"point\">7.97</td>,\n",
       " <td class=\"point\">7.95</td>,\n",
       " <td class=\"point\">7.73</td>,\n",
       " <td class=\"point\">7.64</td>,\n",
       " <td class=\"point\">7.44</td>,\n",
       " <td class=\"point\">7.31</td>,\n",
       " <td class=\"point\">7.28</td>,\n",
       " <td class=\"point\">7.20</td>,\n",
       " <td class=\"point\">7.10</td>,\n",
       " <td class=\"point\">7.09</td>,\n",
       " <td class=\"point\">6.69</td>,\n",
       " <td class=\"point\">6.33</td>,\n",
       " <td class=\"point\">6.25</td>,\n",
       " <td class=\"point\">5.52</td>]"
      ]
     },
     "execution_count": 132,
     "metadata": {},
     "output_type": "execute_result"
    }
   ],
   "source": [
    "point=soup.select('td.point')\n",
    "point"
   ]
  },
  {
   "cell_type": "code",
   "execution_count": 128,
   "id": "2c25b1f4",
   "metadata": {},
   "outputs": [],
   "source": [
    "title_list = []\n",
    "point_list = []\n",
    "rank_list=[]\n",
    "for i in range(len(title)) :\n",
    "    title_list.append(title[i].text)\n",
    "    point_list.append(point[i].text)\n",
    "    rank_list.append(i+1)"
   ]
  },
  {
   "cell_type": "code",
   "execution_count": 88,
   "id": "60380453",
   "metadata": {},
   "outputs": [],
   "source": [
    "dic = { '순위':rank_list ,'영화제목': title_list, '평점': movie_score }"
   ]
  },
  {
   "cell_type": "code",
   "execution_count": 10,
   "id": "f5c00c33",
   "metadata": {},
   "outputs": [
    {
     "ename": "NameError",
     "evalue": "name 'dic' is not defined",
     "output_type": "error",
     "traceback": [
      "\u001b[1;31m---------------------------------------------------------------------------\u001b[0m",
      "\u001b[1;31mNameError\u001b[0m                                 Traceback (most recent call last)",
      "Input \u001b[1;32mIn [10]\u001b[0m, in \u001b[0;36m<cell line: 1>\u001b[1;34m()\u001b[0m\n\u001b[1;32m----> 1\u001b[0m movie \u001b[38;5;241m=\u001b[39m pd\u001b[38;5;241m.\u001b[39mDataFrame(\u001b[43mdic\u001b[49m)\n",
      "\u001b[1;31mNameError\u001b[0m: name 'dic' is not defined"
     ]
    }
   ],
   "source": [
    "movie = pd.DataFrame(dic)"
   ]
  },
  {
   "cell_type": "code",
   "execution_count": 11,
   "id": "03c1ff69",
   "metadata": {},
   "outputs": [
    {
     "ename": "NameError",
     "evalue": "name 'movie' is not defined",
     "output_type": "error",
     "traceback": [
      "\u001b[1;31m---------------------------------------------------------------------------\u001b[0m",
      "\u001b[1;31mNameError\u001b[0m                                 Traceback (most recent call last)",
      "Input \u001b[1;32mIn [11]\u001b[0m, in \u001b[0;36m<cell line: 1>\u001b[1;34m()\u001b[0m\n\u001b[1;32m----> 1\u001b[0m \u001b[43mmovie\u001b[49m\u001b[38;5;241m.\u001b[39mset_index(\u001b[38;5;124m'\u001b[39m\u001b[38;5;124m순위\u001b[39m\u001b[38;5;124m'\u001b[39m,inplace\u001b[38;5;241m=\u001b[39m\u001b[38;5;28;01mTrue\u001b[39;00m)\n",
      "\u001b[1;31mNameError\u001b[0m: name 'movie' is not defined"
     ]
    }
   ],
   "source": [
    "movie.set_index('순위',inplace=True)"
   ]
  },
  {
   "cell_type": "code",
   "execution_count": 140,
   "id": "04c65fdd",
   "metadata": {},
   "outputs": [
    {
     "data": {
      "text/html": [
       "<div>\n",
       "<style scoped>\n",
       "    .dataframe tbody tr th:only-of-type {\n",
       "        vertical-align: middle;\n",
       "    }\n",
       "\n",
       "    .dataframe tbody tr th {\n",
       "        vertical-align: top;\n",
       "    }\n",
       "\n",
       "    .dataframe thead th {\n",
       "        text-align: right;\n",
       "    }\n",
       "</style>\n",
       "<table border=\"1\" class=\"dataframe\">\n",
       "  <thead>\n",
       "    <tr style=\"text-align: right;\">\n",
       "      <th></th>\n",
       "      <th>영화제목</th>\n",
       "      <th>평점</th>\n",
       "    </tr>\n",
       "    <tr>\n",
       "      <th>순위</th>\n",
       "      <th></th>\n",
       "      <th></th>\n",
       "    </tr>\n",
       "  </thead>\n",
       "  <tbody>\n",
       "    <tr>\n",
       "      <th>1</th>\n",
       "      <td>탑건: 매버릭</td>\n",
       "      <td>9.79</td>\n",
       "    </tr>\n",
       "    <tr>\n",
       "      <th>2</th>\n",
       "      <td>범죄도시2</td>\n",
       "      <td>9.46</td>\n",
       "    </tr>\n",
       "    <tr>\n",
       "      <th>3</th>\n",
       "      <td>언터처블: 1%의 우정</td>\n",
       "      <td>9.33</td>\n",
       "    </tr>\n",
       "    <tr>\n",
       "      <th>4</th>\n",
       "      <td>로마의 휴일</td>\n",
       "      <td>9.26</td>\n",
       "    </tr>\n",
       "    <tr>\n",
       "      <th>5</th>\n",
       "      <td>피아니스트의 전설</td>\n",
       "      <td>9.25</td>\n",
       "    </tr>\n",
       "    <tr>\n",
       "      <th>6</th>\n",
       "      <td>극장판 주술회전 0</td>\n",
       "      <td>9.24</td>\n",
       "    </tr>\n",
       "    <tr>\n",
       "      <th>7</th>\n",
       "      <td>러빙 빈센트</td>\n",
       "      <td>9.22</td>\n",
       "    </tr>\n",
       "    <tr>\n",
       "      <th>8</th>\n",
       "      <td>코다</td>\n",
       "      <td>9.13</td>\n",
       "    </tr>\n",
       "    <tr>\n",
       "      <th>9</th>\n",
       "      <td>카시오페아</td>\n",
       "      <td>9.11</td>\n",
       "    </tr>\n",
       "    <tr>\n",
       "      <th>10</th>\n",
       "      <td>올드보이</td>\n",
       "      <td>9.04</td>\n",
       "    </tr>\n",
       "    <tr>\n",
       "      <th>11</th>\n",
       "      <td>이별의 아침에 약속의 꽃을 장식하자</td>\n",
       "      <td>8.97</td>\n",
       "    </tr>\n",
       "    <tr>\n",
       "      <th>12</th>\n",
       "      <td>디어 헌터</td>\n",
       "      <td>8.93</td>\n",
       "    </tr>\n",
       "    <tr>\n",
       "      <th>13</th>\n",
       "      <td>중경삼림</td>\n",
       "      <td>8.90</td>\n",
       "    </tr>\n",
       "    <tr>\n",
       "      <th>14</th>\n",
       "      <td>펄프 픽션</td>\n",
       "      <td>8.76</td>\n",
       "    </tr>\n",
       "    <tr>\n",
       "      <th>15</th>\n",
       "      <td>걸어도 걸어도</td>\n",
       "      <td>8.62</td>\n",
       "    </tr>\n",
       "    <tr>\n",
       "      <th>16</th>\n",
       "      <td>분노</td>\n",
       "      <td>8.55</td>\n",
       "    </tr>\n",
       "    <tr>\n",
       "      <th>17</th>\n",
       "      <td>그녀</td>\n",
       "      <td>8.52</td>\n",
       "    </tr>\n",
       "    <tr>\n",
       "      <th>18</th>\n",
       "      <td>헤어질 결심</td>\n",
       "      <td>8.50</td>\n",
       "    </tr>\n",
       "    <tr>\n",
       "      <th>19</th>\n",
       "      <td>드라이브 마이 카</td>\n",
       "      <td>8.40</td>\n",
       "    </tr>\n",
       "    <tr>\n",
       "      <th>20</th>\n",
       "      <td>신은 죽지 않았다 3: 어둠 속의 빛</td>\n",
       "      <td>8.32</td>\n",
       "    </tr>\n",
       "    <tr>\n",
       "      <th>21</th>\n",
       "      <td>우연과 상상</td>\n",
       "      <td>8.15</td>\n",
       "    </tr>\n",
       "    <tr>\n",
       "      <th>22</th>\n",
       "      <td>릴리 슈슈의 모든 것</td>\n",
       "      <td>8.12</td>\n",
       "    </tr>\n",
       "    <tr>\n",
       "      <th>23</th>\n",
       "      <td>애프터 양</td>\n",
       "      <td>8.08</td>\n",
       "    </tr>\n",
       "    <tr>\n",
       "      <th>24</th>\n",
       "      <td>마스터</td>\n",
       "      <td>7.97</td>\n",
       "    </tr>\n",
       "    <tr>\n",
       "      <th>25</th>\n",
       "      <td>밀양</td>\n",
       "      <td>7.95</td>\n",
       "    </tr>\n",
       "    <tr>\n",
       "      <th>26</th>\n",
       "      <td>철벽선생</td>\n",
       "      <td>7.73</td>\n",
       "    </tr>\n",
       "    <tr>\n",
       "      <th>27</th>\n",
       "      <td>버즈 라이트이어</td>\n",
       "      <td>7.64</td>\n",
       "    </tr>\n",
       "    <tr>\n",
       "      <th>28</th>\n",
       "      <td>해운대</td>\n",
       "      <td>7.44</td>\n",
       "    </tr>\n",
       "    <tr>\n",
       "      <th>29</th>\n",
       "      <td>그린 나이트</td>\n",
       "      <td>7.31</td>\n",
       "    </tr>\n",
       "    <tr>\n",
       "      <th>30</th>\n",
       "      <td>닥터 스트레인지: 대혼돈의 멀티버스</td>\n",
       "      <td>7.28</td>\n",
       "    </tr>\n",
       "    <tr>\n",
       "      <th>31</th>\n",
       "      <td>은혼</td>\n",
       "      <td>7.20</td>\n",
       "    </tr>\n",
       "    <tr>\n",
       "      <th>32</th>\n",
       "      <td>그대가 조국</td>\n",
       "      <td>7.10</td>\n",
       "    </tr>\n",
       "    <tr>\n",
       "      <th>33</th>\n",
       "      <td>불도저에 탄 소녀</td>\n",
       "      <td>7.09</td>\n",
       "    </tr>\n",
       "    <tr>\n",
       "      <th>34</th>\n",
       "      <td>마녀(魔女) Part2. The Other One</td>\n",
       "      <td>6.69</td>\n",
       "    </tr>\n",
       "    <tr>\n",
       "      <th>35</th>\n",
       "      <td>박쥐</td>\n",
       "      <td>6.33</td>\n",
       "    </tr>\n",
       "    <tr>\n",
       "      <th>36</th>\n",
       "      <td>쥬라기 월드: 도미니언</td>\n",
       "      <td>6.25</td>\n",
       "    </tr>\n",
       "    <tr>\n",
       "      <th>37</th>\n",
       "      <td>브로커</td>\n",
       "      <td>5.52</td>\n",
       "    </tr>\n",
       "  </tbody>\n",
       "</table>\n",
       "</div>"
      ],
      "text/plain": [
       "                           영화제목    평점\n",
       "순위                                   \n",
       "1                       탑건: 매버릭  9.79\n",
       "2                         범죄도시2  9.46\n",
       "3                  언터처블: 1%의 우정  9.33\n",
       "4                        로마의 휴일  9.26\n",
       "5                     피아니스트의 전설  9.25\n",
       "6                    극장판 주술회전 0  9.24\n",
       "7                        러빙 빈센트  9.22\n",
       "8                            코다  9.13\n",
       "9                         카시오페아  9.11\n",
       "10                         올드보이  9.04\n",
       "11          이별의 아침에 약속의 꽃을 장식하자  8.97\n",
       "12                        디어 헌터  8.93\n",
       "13                         중경삼림  8.90\n",
       "14                        펄프 픽션  8.76\n",
       "15                      걸어도 걸어도  8.62\n",
       "16                           분노  8.55\n",
       "17                           그녀  8.52\n",
       "18                       헤어질 결심  8.50\n",
       "19                    드라이브 마이 카  8.40\n",
       "20         신은 죽지 않았다 3: 어둠 속의 빛  8.32\n",
       "21                       우연과 상상  8.15\n",
       "22                  릴리 슈슈의 모든 것  8.12\n",
       "23                        애프터 양  8.08\n",
       "24                          마스터  7.97\n",
       "25                           밀양  7.95\n",
       "26                         철벽선생  7.73\n",
       "27                     버즈 라이트이어  7.64\n",
       "28                          해운대  7.44\n",
       "29                       그린 나이트  7.31\n",
       "30          닥터 스트레인지: 대혼돈의 멀티버스  7.28\n",
       "31                           은혼  7.20\n",
       "32                       그대가 조국  7.10\n",
       "33                    불도저에 탄 소녀  7.09\n",
       "34  마녀(魔女) Part2. The Other One  6.69\n",
       "35                           박쥐  6.33\n",
       "36                 쥬라기 월드: 도미니언  6.25\n",
       "37                          브로커  5.52"
      ]
     },
     "execution_count": 140,
     "metadata": {},
     "output_type": "execute_result"
    }
   ],
   "source": [
    "movie"
   ]
  }
 ],
 "metadata": {
  "kernelspec": {
   "display_name": "Python 3 (ipykernel)",
   "language": "python",
   "name": "python3"
  },
  "language_info": {
   "codemirror_mode": {
    "name": "ipython",
    "version": 3
   },
   "file_extension": ".py",
   "mimetype": "text/x-python",
   "name": "python",
   "nbconvert_exporter": "python",
   "pygments_lexer": "ipython3",
   "version": "3.9.12"
  }
 },
 "nbformat": 4,
 "nbformat_minor": 5
}
