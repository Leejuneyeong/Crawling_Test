{
 "cells": [
  {
   "cell_type": "code",
   "execution_count": 2,
   "id": "9821a4e2",
   "metadata": {},
   "outputs": [],
   "source": [
    "import requests as req\n",
    "from bs4 import BeautifulSoup as bs"
   ]
  },
  {
   "cell_type": "code",
   "execution_count": 48,
   "id": "3a6b55dd",
   "metadata": {},
   "outputs": [],
   "source": [
    "url='https://movie.naver.com/movie/bi/mi/basic.naver?code=81888'\n",
    "res =req.get(url)"
   ]
  },
  {
   "cell_type": "code",
   "execution_count": 49,
   "id": "4d1b91de",
   "metadata": {},
   "outputs": [],
   "source": [
    "soup=bs(res.text,'lxml')"
   ]
  },
  {
   "cell_type": "code",
   "execution_count": 50,
   "id": "4baf69b5",
   "metadata": {},
   "outputs": [],
   "source": [
    "r=soup.select('div.score_reple>p')"
   ]
  },
  {
   "cell_type": "code",
   "execution_count": 51,
   "id": "ea110898",
   "metadata": {},
   "outputs": [
    {
     "name": "stdout",
     "output_type": "stream",
     "text": [
      "평점 잘 안주는데 만점 줄려고 왔다\n",
      "영화관이 필요한 이유\n",
      "중국 애들은 불쌍타 나라 잘못 만나서 이런 영화를 극장에서 못보다니 ㅋㅋ\n",
      "감동의눈물 나올정도입니다. 평점10점급임.  내가 전투기 탄 기분이였음\n",
      "탑건1(1986년)의 36년만의 나온 속편. 매우 만족 스러웠고 매우 재밌었다 무조건 특별관에서 봐야되는 영화 2022년 개봉작 영화중에서 범죄도시2 이후 2번째로 엄청 좋았던 영화 톰 크루즈 미모는 여전히 잘생겼다 1편을 보고 가야되는 질문에서 답을 하자면 1편 보고 가는게 더 좋다 감동도 2배 더 느낄 수 있음\n"
     ]
    }
   ],
   "source": [
    "for i in r:\n",
    "    print(i.text.strip())"
   ]
  },
  {
   "cell_type": "markdown",
   "id": "2c1f364f",
   "metadata": {},
   "source": [
    "### 화면에는 존재하지만 실제데이터는 다른공간에 존재하는 경우\n",
    "- iframe 개발자모드에서 iframe 검색해서 해당되는 iframe을 찾는다"
   ]
  },
  {
   "cell_type": "code",
   "execution_count": 52,
   "id": "68316047",
   "metadata": {},
   "outputs": [],
   "source": [
    "url='https://movie.naver.com/movie/bi/mi/point.naver?code=81888#tab'\n",
    "res =req.get(url)"
   ]
  },
  {
   "cell_type": "code",
   "execution_count": 56,
   "id": "1e6cbba2",
   "metadata": {
    "scrolled": true
   },
   "outputs": [
    {
     "data": {
      "text/plain": [
       "[]"
      ]
     },
     "execution_count": 56,
     "metadata": {},
     "output_type": "execute_result"
    }
   ],
   "source": [
    "#class는 반복문 돌릴 수 있다 id는 반복문 돌릴 수 없다.\n",
    "# id 태그는 가져오기 힘듬 \n",
    "r=soup.select('score_reple>p')\n",
    "r"
   ]
  },
  {
   "cell_type": "code",
   "execution_count": 57,
   "id": "c5a49357",
   "metadata": {},
   "outputs": [],
   "source": [
    "#리뷰데이터 접근이 불가능한 이유\n",
    "#iframe을 통해서 다른 서버에 있는 데이터를 보여주기만 하기 때문에\n",
    "#실제 데이터가 저장되어있는 서버의 주소로 찾아가서 추출해오기\n",
    "#f12 개발자도구 > iframe 검색 > 실제 사용되고 있는 irame 찾기!\n",
    "#src 부분을 활용해서 진짜 데이터를 가지고있는 서버의 url 수집!"
   ]
  },
  {
   "cell_type": "code",
   "execution_count": 66,
   "id": "fd727673",
   "metadata": {},
   "outputs": [],
   "source": [
    "#src 부분을 활용해서 url 을 생성 ->\n",
    "# 메인서버 주소 + 경로\n",
    "url = 'https://movie.naver.com/movie/bi/mi/pointWriteFormList.naver?code=81888&type=after&i[…]geSubscriptionAlready=false&isMileageSubscriptionReject=false'\n",
    "#----------------------  ------------------->\n",
    "# 메인서버                경로\n",
    "res=req.get(url)\n",
    "soup=bs(res.text,'lxml')"
   ]
  },
  {
   "cell_type": "code",
   "execution_count": 67,
   "id": "75cca725",
   "metadata": {},
   "outputs": [],
   "source": [
    "# id 태그는 가져오기 힘듬 \n",
    "review = soup.select('div.score_reple>p')"
   ]
  },
  {
   "cell_type": "code",
   "execution_count": 68,
   "id": "31e43be8",
   "metadata": {
    "collapsed": true
   },
   "outputs": [
    {
     "name": "stdout",
     "output_type": "stream",
     "text": [
      "\n",
      "관람객\n",
      "\n",
      "\r\n",
      "\t\t\t\t\t\t\t\t\t\t\t\t\t\t\r\n",
      "\t\t\t\t\t\t\t\t\t\t\t\t\t\t\t\r\n",
      "\t\t\t\t\t\t\t\t\t\t\t\t\t\t\t\r\n",
      "\t\t\t\t\t\t\t\t\t\t\t\t\t\t\t\t평점 잘 안주는데 만점 줄려고 왔다 \r\n",
      "\t\t\t\t\t\t\t\t\t\t\t\t\t\t\t\r\n",
      "\t\t\t\t\t\t\t\t\t\t\t\t\t\t\r\n",
      "\t\t\t\t\t\t\t\t\t\t\t\t\t\t\r\n",
      "\t\t\t\t\t\t\t\t\t\t\t\t\t\n",
      "\n",
      "\n",
      "관람객\n",
      "\n",
      "\r\n",
      "\t\t\t\t\t\t\t\t\t\t\t\t\t\t\r\n",
      "\t\t\t\t\t\t\t\t\t\t\t\t\t\t\t\r\n",
      "\t\t\t\t\t\t\t\t\t\t\t\t\t\t\t\r\n",
      "\t\t\t\t\t\t\t\t\t\t\t\t\t\t\t\t영화관이 필요한 이유 \r\n",
      "\t\t\t\t\t\t\t\t\t\t\t\t\t\t\t\r\n",
      "\t\t\t\t\t\t\t\t\t\t\t\t\t\t\r\n",
      "\t\t\t\t\t\t\t\t\t\t\t\t\t\t\r\n",
      "\t\t\t\t\t\t\t\t\t\t\t\t\t\n",
      "\n",
      "\n",
      "관람객\n",
      "\n",
      "\r\n",
      "\t\t\t\t\t\t\t\t\t\t\t\t\t\t\r\n",
      "\t\t\t\t\t\t\t\t\t\t\t\t\t\t\t\r\n",
      "\t\t\t\t\t\t\t\t\t\t\t\t\t\t\t\r\n",
      "\t\t\t\t\t\t\t\t\t\t\t\t\t\t\t\t중국 애들은 불쌍타 나라 잘못 만나서 이런 영화를 극장에서 못보다니 ㅋㅋ \r\n",
      "\t\t\t\t\t\t\t\t\t\t\t\t\t\t\t\r\n",
      "\t\t\t\t\t\t\t\t\t\t\t\t\t\t\r\n",
      "\t\t\t\t\t\t\t\t\t\t\t\t\t\t\r\n",
      "\t\t\t\t\t\t\t\t\t\t\t\t\t\n",
      "\n",
      "\n",
      "관람객\n",
      "\n",
      "\r\n",
      "\t\t\t\t\t\t\t\t\t\t\t\t\t\t\r\n",
      "\t\t\t\t\t\t\t\t\t\t\t\t\t\t\t\r\n",
      "\t\t\t\t\t\t\t\t\t\t\t\t\t\t\t\r\n",
      "\t\t\t\t\t\t\t\t\t\t\t\t\t\t\t\t감동의눈물 나올정도입니다. 평점10점급임.  내가 전투기 탄 기분이였음 \r\n",
      "\t\t\t\t\t\t\t\t\t\t\t\t\t\t\t\r\n",
      "\t\t\t\t\t\t\t\t\t\t\t\t\t\t\r\n",
      "\t\t\t\t\t\t\t\t\t\t\t\t\t\t\r\n",
      "\t\t\t\t\t\t\t\t\t\t\t\t\t\n",
      "\n",
      "\n",
      "관람객\n",
      "\n",
      "\n",
      "\n",
      "\r\n",
      "\t\t\t\t\t\t\t\t\t\t\t\t\t\t\t\t\t\t탑건1(1986년)의 36년만의 나온 속편. 매우 만족 스러웠고 매우 재밌었다 무조건 특별관에서 봐야되는 영화 2022년 개봉작 영화중에서 범죄도시2 이후 2번째로 엄청 좋았던 영화 톰 크루즈 미모는 여전히 잘생겼다...\r\n",
      "\t\t\t\t\t\t\t\t\t\t\t\t\t\t\t\t\t\n",
      "\n",
      "\n",
      "\n",
      "\n",
      "관람객\n",
      "\n",
      "\r\n",
      "\t\t\t\t\t\t\t\t\t\t\t\t\t\t\r\n",
      "\t\t\t\t\t\t\t\t\t\t\t\t\t\t\t\r\n",
      "\t\t\t\t\t\t\t\t\t\t\t\t\t\t\t\r\n",
      "\t\t\t\t\t\t\t\t\t\t\t\t\t\t\t\t이 시대의 마지막 액션스타, \"톰 크루즈\" \r\n",
      "\t\t\t\t\t\t\t\t\t\t\t\t\t\t\t\r\n",
      "\t\t\t\t\t\t\t\t\t\t\t\t\t\t\r\n",
      "\t\t\t\t\t\t\t\t\t\t\t\t\t\t\r\n",
      "\t\t\t\t\t\t\t\t\t\t\t\t\t\n",
      "\n",
      "\n",
      "관람객\n",
      "\n",
      "\r\n",
      "\t\t\t\t\t\t\t\t\t\t\t\t\t\t\r\n",
      "\t\t\t\t\t\t\t\t\t\t\t\t\t\t\t\r\n",
      "\t\t\t\t\t\t\t\t\t\t\t\t\t\t\t\r\n",
      "\t\t\t\t\t\t\t\t\t\t\t\t\t\t\t\t다른 말이 필요한가 레.전.드 \r\n",
      "\t\t\t\t\t\t\t\t\t\t\t\t\t\t\t\r\n",
      "\t\t\t\t\t\t\t\t\t\t\t\t\t\t\r\n",
      "\t\t\t\t\t\t\t\t\t\t\t\t\t\t\r\n",
      "\t\t\t\t\t\t\t\t\t\t\t\t\t\n",
      "\n",
      "\n",
      "관람객\n",
      "\n",
      "\r\n",
      "\t\t\t\t\t\t\t\t\t\t\t\t\t\t\r\n",
      "\t\t\t\t\t\t\t\t\t\t\t\t\t\t\t\r\n",
      "\t\t\t\t\t\t\t\t\t\t\t\t\t\t\t\r\n",
      "\t\t\t\t\t\t\t\t\t\t\t\t\t\t\t\t개쩐다 말이 필요없음 직접확인 \r\n",
      "\t\t\t\t\t\t\t\t\t\t\t\t\t\t\t\r\n",
      "\t\t\t\t\t\t\t\t\t\t\t\t\t\t\r\n",
      "\t\t\t\t\t\t\t\t\t\t\t\t\t\t\r\n",
      "\t\t\t\t\t\t\t\t\t\t\t\t\t\n",
      "\n",
      "\n",
      "관람객\n",
      "\n",
      "\r\n",
      "\t\t\t\t\t\t\t\t\t\t\t\t\t\t\r\n",
      "\t\t\t\t\t\t\t\t\t\t\t\t\t\t\t\r\n",
      "\t\t\t\t\t\t\t\t\t\t\t\t\t\t\t\r\n",
      "\t\t\t\t\t\t\t\t\t\t\t\t\t\t\t\t감동까지 겸비한 최고의 블록버스터 \r\n",
      "\t\t\t\t\t\t\t\t\t\t\t\t\t\t\t\r\n",
      "\t\t\t\t\t\t\t\t\t\t\t\t\t\t\r\n",
      "\t\t\t\t\t\t\t\t\t\t\t\t\t\t\r\n",
      "\t\t\t\t\t\t\t\t\t\t\t\t\t\n",
      "\n",
      "\n",
      "관람객\n",
      "\n",
      "\r\n",
      "\t\t\t\t\t\t\t\t\t\t\t\t\t\t\r\n",
      "\t\t\t\t\t\t\t\t\t\t\t\t\t\t\t\r\n",
      "\t\t\t\t\t\t\t\t\t\t\t\t\t\t\t\r\n",
      "\t\t\t\t\t\t\t\t\t\t\t\t\t\t\t\t지린다... 지려 할말이 없게 만듬.. \r\n",
      "\t\t\t\t\t\t\t\t\t\t\t\t\t\t\t\r\n",
      "\t\t\t\t\t\t\t\t\t\t\t\t\t\t\r\n",
      "\t\t\t\t\t\t\t\t\t\t\t\t\t\t\r\n",
      "\t\t\t\t\t\t\t\t\t\t\t\t\t\n",
      "\n"
     ]
    }
   ],
   "source": [
    "for i in review :\n",
    "    print(i.text)\n",
    "    "
   ]
  },
  {
   "cell_type": "code",
   "execution_count": 72,
   "id": "f43e92ac",
   "metadata": {
    "collapsed": true
   },
   "outputs": [
    {
     "data": {
      "text/plain": [
       "[<p>\n",
       " <span class=\"ico_viewer\">관람객</span>\n",
       " <!-- 스포일러 컨텐츠로 처리되는지 여부 -->\n",
       " <span id=\"_filtered_ment_0\">\n",
       " \t\t\t\t\t\t\t\t\t\t\t\t\t\t\n",
       " \t\t\t\t\t\t\t\t\t\t\t\t\t\t\t\n",
       " \t\t\t\t\t\t\t\t\t\t\t\t\t\t\t\n",
       " \t\t\t\t\t\t\t\t\t\t\t\t\t\t\t\t평점 잘 안주는데 만점 줄려고 왔다 \n",
       " \t\t\t\t\t\t\t\t\t\t\t\t\t\t\t\n",
       " \t\t\t\t\t\t\t\t\t\t\t\t\t\t\n",
       " \t\t\t\t\t\t\t\t\t\t\t\t\t\t\n",
       " \t\t\t\t\t\t\t\t\t\t\t\t\t</span>\n",
       " </p>,\n",
       " <p>\n",
       " <span class=\"ico_viewer\">관람객</span>\n",
       " <!-- 스포일러 컨텐츠로 처리되는지 여부 -->\n",
       " <span id=\"_filtered_ment_1\">\n",
       " \t\t\t\t\t\t\t\t\t\t\t\t\t\t\n",
       " \t\t\t\t\t\t\t\t\t\t\t\t\t\t\t\n",
       " \t\t\t\t\t\t\t\t\t\t\t\t\t\t\t\n",
       " \t\t\t\t\t\t\t\t\t\t\t\t\t\t\t\t영화관이 필요한 이유 \n",
       " \t\t\t\t\t\t\t\t\t\t\t\t\t\t\t\n",
       " \t\t\t\t\t\t\t\t\t\t\t\t\t\t\n",
       " \t\t\t\t\t\t\t\t\t\t\t\t\t\t\n",
       " \t\t\t\t\t\t\t\t\t\t\t\t\t</span>\n",
       " </p>,\n",
       " <p>\n",
       " <span class=\"ico_viewer\">관람객</span>\n",
       " <!-- 스포일러 컨텐츠로 처리되는지 여부 -->\n",
       " <span id=\"_filtered_ment_2\">\n",
       " \t\t\t\t\t\t\t\t\t\t\t\t\t\t\n",
       " \t\t\t\t\t\t\t\t\t\t\t\t\t\t\t\n",
       " \t\t\t\t\t\t\t\t\t\t\t\t\t\t\t\n",
       " \t\t\t\t\t\t\t\t\t\t\t\t\t\t\t\t중국 애들은 불쌍타 나라 잘못 만나서 이런 영화를 극장에서 못보다니 ㅋㅋ \n",
       " \t\t\t\t\t\t\t\t\t\t\t\t\t\t\t\n",
       " \t\t\t\t\t\t\t\t\t\t\t\t\t\t\n",
       " \t\t\t\t\t\t\t\t\t\t\t\t\t\t\n",
       " \t\t\t\t\t\t\t\t\t\t\t\t\t</span>\n",
       " </p>,\n",
       " <p>\n",
       " <span class=\"ico_viewer\">관람객</span>\n",
       " <!-- 스포일러 컨텐츠로 처리되는지 여부 -->\n",
       " <span id=\"_filtered_ment_3\">\n",
       " \t\t\t\t\t\t\t\t\t\t\t\t\t\t\n",
       " \t\t\t\t\t\t\t\t\t\t\t\t\t\t\t\n",
       " \t\t\t\t\t\t\t\t\t\t\t\t\t\t\t\n",
       " \t\t\t\t\t\t\t\t\t\t\t\t\t\t\t\t감동의눈물 나올정도입니다. 평점10점급임.  내가 전투기 탄 기분이였음 \n",
       " \t\t\t\t\t\t\t\t\t\t\t\t\t\t\t\n",
       " \t\t\t\t\t\t\t\t\t\t\t\t\t\t\n",
       " \t\t\t\t\t\t\t\t\t\t\t\t\t\t\n",
       " \t\t\t\t\t\t\t\t\t\t\t\t\t</span>\n",
       " </p>,\n",
       " <p>\n",
       " <span class=\"ico_viewer\">관람객</span>\n",
       " <!-- 스포일러 컨텐츠로 처리되는지 여부 -->\n",
       " <span id=\"_filtered_ment_4\">\n",
       " <span class=\"_unfold_ment\" id=\"_unfold_ment4\">\n",
       " <a data-src=\"탑건1(1986년)의 36년만의 나온 속편. 매우 만족 스러웠고 매우 재밌었다 무조건 특별관에서 봐야되는 영화 2022년 개봉작 영화중에서 범죄도시2 이후 2번째로 엄청 좋았던 영화 톰 크루즈 미모는 여전히 잘생겼다 1편을 보고 가야되는 질문에서 답을 하자면 1편 보고 가는게 더 좋다 감동도 2배 더 느낄 수 있음 \" href=\"javascript:void(0);\" onclick=\"unfoldPointMent(this);\">\n",
       " \t\t\t\t\t\t\t\t\t\t\t\t\t\t\t\t\t\t탑건1(1986년)의 36년만의 나온 속편. 매우 만족 스러웠고 매우 재밌었다 무조건 특별관에서 봐야되는 영화 2022년 개봉작 영화중에서 범죄도시2 이후 2번째로 엄청 좋았던 영화 톰 크루즈 미모는 여전히 잘생겼다...\n",
       " \t\t\t\t\t\t\t\t\t\t\t\t\t\t\t\t\t</a>\n",
       " </span>\n",
       " </span>\n",
       " </p>,\n",
       " <p>\n",
       " <span class=\"ico_viewer\">관람객</span>\n",
       " <!-- 스포일러 컨텐츠로 처리되는지 여부 -->\n",
       " <span id=\"_filtered_ment_5\">\n",
       " \t\t\t\t\t\t\t\t\t\t\t\t\t\t\n",
       " \t\t\t\t\t\t\t\t\t\t\t\t\t\t\t\n",
       " \t\t\t\t\t\t\t\t\t\t\t\t\t\t\t\n",
       " \t\t\t\t\t\t\t\t\t\t\t\t\t\t\t\t이 시대의 마지막 액션스타, \"톰 크루즈\" \n",
       " \t\t\t\t\t\t\t\t\t\t\t\t\t\t\t\n",
       " \t\t\t\t\t\t\t\t\t\t\t\t\t\t\n",
       " \t\t\t\t\t\t\t\t\t\t\t\t\t\t\n",
       " \t\t\t\t\t\t\t\t\t\t\t\t\t</span>\n",
       " </p>,\n",
       " <p>\n",
       " <span class=\"ico_viewer\">관람객</span>\n",
       " <!-- 스포일러 컨텐츠로 처리되는지 여부 -->\n",
       " <span id=\"_filtered_ment_6\">\n",
       " \t\t\t\t\t\t\t\t\t\t\t\t\t\t\n",
       " \t\t\t\t\t\t\t\t\t\t\t\t\t\t\t\n",
       " \t\t\t\t\t\t\t\t\t\t\t\t\t\t\t\n",
       " \t\t\t\t\t\t\t\t\t\t\t\t\t\t\t\t다른 말이 필요한가 레.전.드 \n",
       " \t\t\t\t\t\t\t\t\t\t\t\t\t\t\t\n",
       " \t\t\t\t\t\t\t\t\t\t\t\t\t\t\n",
       " \t\t\t\t\t\t\t\t\t\t\t\t\t\t\n",
       " \t\t\t\t\t\t\t\t\t\t\t\t\t</span>\n",
       " </p>,\n",
       " <p>\n",
       " <span class=\"ico_viewer\">관람객</span>\n",
       " <!-- 스포일러 컨텐츠로 처리되는지 여부 -->\n",
       " <span id=\"_filtered_ment_7\">\n",
       " \t\t\t\t\t\t\t\t\t\t\t\t\t\t\n",
       " \t\t\t\t\t\t\t\t\t\t\t\t\t\t\t\n",
       " \t\t\t\t\t\t\t\t\t\t\t\t\t\t\t\n",
       " \t\t\t\t\t\t\t\t\t\t\t\t\t\t\t\t개쩐다 말이 필요없음 직접확인 \n",
       " \t\t\t\t\t\t\t\t\t\t\t\t\t\t\t\n",
       " \t\t\t\t\t\t\t\t\t\t\t\t\t\t\n",
       " \t\t\t\t\t\t\t\t\t\t\t\t\t\t\n",
       " \t\t\t\t\t\t\t\t\t\t\t\t\t</span>\n",
       " </p>,\n",
       " <p>\n",
       " <span class=\"ico_viewer\">관람객</span>\n",
       " <!-- 스포일러 컨텐츠로 처리되는지 여부 -->\n",
       " <span id=\"_filtered_ment_8\">\n",
       " \t\t\t\t\t\t\t\t\t\t\t\t\t\t\n",
       " \t\t\t\t\t\t\t\t\t\t\t\t\t\t\t\n",
       " \t\t\t\t\t\t\t\t\t\t\t\t\t\t\t\n",
       " \t\t\t\t\t\t\t\t\t\t\t\t\t\t\t\t감동까지 겸비한 최고의 블록버스터 \n",
       " \t\t\t\t\t\t\t\t\t\t\t\t\t\t\t\n",
       " \t\t\t\t\t\t\t\t\t\t\t\t\t\t\n",
       " \t\t\t\t\t\t\t\t\t\t\t\t\t\t\n",
       " \t\t\t\t\t\t\t\t\t\t\t\t\t</span>\n",
       " </p>,\n",
       " <p>\n",
       " <span class=\"ico_viewer\">관람객</span>\n",
       " <!-- 스포일러 컨텐츠로 처리되는지 여부 -->\n",
       " <span id=\"_filtered_ment_9\">\n",
       " \t\t\t\t\t\t\t\t\t\t\t\t\t\t\n",
       " \t\t\t\t\t\t\t\t\t\t\t\t\t\t\t\n",
       " \t\t\t\t\t\t\t\t\t\t\t\t\t\t\t\n",
       " \t\t\t\t\t\t\t\t\t\t\t\t\t\t\t\t지린다... 지려 할말이 없게 만듬.. \n",
       " \t\t\t\t\t\t\t\t\t\t\t\t\t\t\t\n",
       " \t\t\t\t\t\t\t\t\t\t\t\t\t\t\n",
       " \t\t\t\t\t\t\t\t\t\t\t\t\t\t\n",
       " \t\t\t\t\t\t\t\t\t\t\t\t\t</span>\n",
       " </p>]"
      ]
     },
     "execution_count": 72,
     "metadata": {},
     "output_type": "execute_result"
    }
   ],
   "source": [
    "reivew = soup.select('div.score_reple > p > span:nth-child(2)')\n",
    "# 완벽한 방법은 아니다\n",
    "# 왜냐하면? 2개가 아닌 span 도 존재하기 때문에!"
   ]
  },
  {
   "cell_type": "code",
   "execution_count": 73,
   "id": "50994c5f",
   "metadata": {
    "collapsed": true
   },
   "outputs": [
    {
     "name": "stdout",
     "output_type": "stream",
     "text": [
      "\n",
      "관람객\n",
      "\n",
      "\r\n",
      "\t\t\t\t\t\t\t\t\t\t\t\t\t\t\r\n",
      "\t\t\t\t\t\t\t\t\t\t\t\t\t\t\t\r\n",
      "\t\t\t\t\t\t\t\t\t\t\t\t\t\t\t\r\n",
      "\t\t\t\t\t\t\t\t\t\t\t\t\t\t\t\t평점 잘 안주는데 만점 줄려고 왔다 \r\n",
      "\t\t\t\t\t\t\t\t\t\t\t\t\t\t\t\r\n",
      "\t\t\t\t\t\t\t\t\t\t\t\t\t\t\r\n",
      "\t\t\t\t\t\t\t\t\t\t\t\t\t\t\r\n",
      "\t\t\t\t\t\t\t\t\t\t\t\t\t\n",
      "\n",
      "\n",
      "관람객\n",
      "\n",
      "\r\n",
      "\t\t\t\t\t\t\t\t\t\t\t\t\t\t\r\n",
      "\t\t\t\t\t\t\t\t\t\t\t\t\t\t\t\r\n",
      "\t\t\t\t\t\t\t\t\t\t\t\t\t\t\t\r\n",
      "\t\t\t\t\t\t\t\t\t\t\t\t\t\t\t\t영화관이 필요한 이유 \r\n",
      "\t\t\t\t\t\t\t\t\t\t\t\t\t\t\t\r\n",
      "\t\t\t\t\t\t\t\t\t\t\t\t\t\t\r\n",
      "\t\t\t\t\t\t\t\t\t\t\t\t\t\t\r\n",
      "\t\t\t\t\t\t\t\t\t\t\t\t\t\n",
      "\n",
      "\n",
      "관람객\n",
      "\n",
      "\r\n",
      "\t\t\t\t\t\t\t\t\t\t\t\t\t\t\r\n",
      "\t\t\t\t\t\t\t\t\t\t\t\t\t\t\t\r\n",
      "\t\t\t\t\t\t\t\t\t\t\t\t\t\t\t\r\n",
      "\t\t\t\t\t\t\t\t\t\t\t\t\t\t\t\t중국 애들은 불쌍타 나라 잘못 만나서 이런 영화를 극장에서 못보다니 ㅋㅋ \r\n",
      "\t\t\t\t\t\t\t\t\t\t\t\t\t\t\t\r\n",
      "\t\t\t\t\t\t\t\t\t\t\t\t\t\t\r\n",
      "\t\t\t\t\t\t\t\t\t\t\t\t\t\t\r\n",
      "\t\t\t\t\t\t\t\t\t\t\t\t\t\n",
      "\n",
      "\n",
      "관람객\n",
      "\n",
      "\r\n",
      "\t\t\t\t\t\t\t\t\t\t\t\t\t\t\r\n",
      "\t\t\t\t\t\t\t\t\t\t\t\t\t\t\t\r\n",
      "\t\t\t\t\t\t\t\t\t\t\t\t\t\t\t\r\n",
      "\t\t\t\t\t\t\t\t\t\t\t\t\t\t\t\t감동의눈물 나올정도입니다. 평점10점급임.  내가 전투기 탄 기분이였음 \r\n",
      "\t\t\t\t\t\t\t\t\t\t\t\t\t\t\t\r\n",
      "\t\t\t\t\t\t\t\t\t\t\t\t\t\t\r\n",
      "\t\t\t\t\t\t\t\t\t\t\t\t\t\t\r\n",
      "\t\t\t\t\t\t\t\t\t\t\t\t\t\n",
      "\n",
      "\n",
      "관람객\n",
      "\n",
      "\n",
      "\n",
      "\r\n",
      "\t\t\t\t\t\t\t\t\t\t\t\t\t\t\t\t\t\t탑건1(1986년)의 36년만의 나온 속편. 매우 만족 스러웠고 매우 재밌었다 무조건 특별관에서 봐야되는 영화 2022년 개봉작 영화중에서 범죄도시2 이후 2번째로 엄청 좋았던 영화 톰 크루즈 미모는 여전히 잘생겼다...\r\n",
      "\t\t\t\t\t\t\t\t\t\t\t\t\t\t\t\t\t\n",
      "\n",
      "\n",
      "\n",
      "\n",
      "관람객\n",
      "\n",
      "\r\n",
      "\t\t\t\t\t\t\t\t\t\t\t\t\t\t\r\n",
      "\t\t\t\t\t\t\t\t\t\t\t\t\t\t\t\r\n",
      "\t\t\t\t\t\t\t\t\t\t\t\t\t\t\t\r\n",
      "\t\t\t\t\t\t\t\t\t\t\t\t\t\t\t\t이 시대의 마지막 액션스타, \"톰 크루즈\" \r\n",
      "\t\t\t\t\t\t\t\t\t\t\t\t\t\t\t\r\n",
      "\t\t\t\t\t\t\t\t\t\t\t\t\t\t\r\n",
      "\t\t\t\t\t\t\t\t\t\t\t\t\t\t\r\n",
      "\t\t\t\t\t\t\t\t\t\t\t\t\t\n",
      "\n",
      "\n",
      "관람객\n",
      "\n",
      "\r\n",
      "\t\t\t\t\t\t\t\t\t\t\t\t\t\t\r\n",
      "\t\t\t\t\t\t\t\t\t\t\t\t\t\t\t\r\n",
      "\t\t\t\t\t\t\t\t\t\t\t\t\t\t\t\r\n",
      "\t\t\t\t\t\t\t\t\t\t\t\t\t\t\t\t다른 말이 필요한가 레.전.드 \r\n",
      "\t\t\t\t\t\t\t\t\t\t\t\t\t\t\t\r\n",
      "\t\t\t\t\t\t\t\t\t\t\t\t\t\t\r\n",
      "\t\t\t\t\t\t\t\t\t\t\t\t\t\t\r\n",
      "\t\t\t\t\t\t\t\t\t\t\t\t\t\n",
      "\n",
      "\n",
      "관람객\n",
      "\n",
      "\r\n",
      "\t\t\t\t\t\t\t\t\t\t\t\t\t\t\r\n",
      "\t\t\t\t\t\t\t\t\t\t\t\t\t\t\t\r\n",
      "\t\t\t\t\t\t\t\t\t\t\t\t\t\t\t\r\n",
      "\t\t\t\t\t\t\t\t\t\t\t\t\t\t\t\t개쩐다 말이 필요없음 직접확인 \r\n",
      "\t\t\t\t\t\t\t\t\t\t\t\t\t\t\t\r\n",
      "\t\t\t\t\t\t\t\t\t\t\t\t\t\t\r\n",
      "\t\t\t\t\t\t\t\t\t\t\t\t\t\t\r\n",
      "\t\t\t\t\t\t\t\t\t\t\t\t\t\n",
      "\n",
      "\n",
      "관람객\n",
      "\n",
      "\r\n",
      "\t\t\t\t\t\t\t\t\t\t\t\t\t\t\r\n",
      "\t\t\t\t\t\t\t\t\t\t\t\t\t\t\t\r\n",
      "\t\t\t\t\t\t\t\t\t\t\t\t\t\t\t\r\n",
      "\t\t\t\t\t\t\t\t\t\t\t\t\t\t\t\t감동까지 겸비한 최고의 블록버스터 \r\n",
      "\t\t\t\t\t\t\t\t\t\t\t\t\t\t\t\r\n",
      "\t\t\t\t\t\t\t\t\t\t\t\t\t\t\r\n",
      "\t\t\t\t\t\t\t\t\t\t\t\t\t\t\r\n",
      "\t\t\t\t\t\t\t\t\t\t\t\t\t\n",
      "\n",
      "\n",
      "관람객\n",
      "\n",
      "\r\n",
      "\t\t\t\t\t\t\t\t\t\t\t\t\t\t\r\n",
      "\t\t\t\t\t\t\t\t\t\t\t\t\t\t\t\r\n",
      "\t\t\t\t\t\t\t\t\t\t\t\t\t\t\t\r\n",
      "\t\t\t\t\t\t\t\t\t\t\t\t\t\t\t\t지린다... 지려 할말이 없게 만듬.. \r\n",
      "\t\t\t\t\t\t\t\t\t\t\t\t\t\t\t\r\n",
      "\t\t\t\t\t\t\t\t\t\t\t\t\t\t\r\n",
      "\t\t\t\t\t\t\t\t\t\t\t\t\t\t\r\n",
      "\t\t\t\t\t\t\t\t\t\t\t\t\t\n",
      "\n"
     ]
    }
   ],
   "source": [
    "for i in review:\n",
    "    print(i.text)"
   ]
  },
  {
   "cell_type": "code",
   "execution_count": 75,
   "id": "a4af0f12",
   "metadata": {},
   "outputs": [],
   "source": [
    "# 선택자를 정확하게 쓰는 것이 best!\n",
    "\n",
    "# 사용할 수 없는 경우가 존재 -> span 한개만 존재하는 경우!\n",
    "\n",
    "# 불필요한 요소('관람객')를 제거하고 가는 방식으로 진행"
   ]
  },
  {
   "cell_type": "code",
   "execution_count": 78,
   "id": "dda37fb7",
   "metadata": {},
   "outputs": [
    {
     "data": {
      "text/plain": [
       "[<span class=\"ico_viewer\">관람객</span>,\n",
       " <span class=\"ico_viewer\">관람객</span>,\n",
       " <span class=\"ico_viewer\">관람객</span>,\n",
       " <span class=\"ico_viewer\">관람객</span>,\n",
       " <span class=\"ico_viewer\">관람객</span>,\n",
       " <span class=\"ico_viewer\">관람객</span>,\n",
       " <span class=\"ico_viewer\">관람객</span>,\n",
       " <span class=\"ico_viewer\">관람객</span>,\n",
       " <span class=\"ico_viewer\">관람객</span>,\n",
       " <span class=\"ico_viewer\">관람객</span>]"
      ]
     },
     "execution_count": 78,
     "metadata": {},
     "output_type": "execute_result"
    }
   ],
   "source": [
    "# 불필요한 '관람객 ' 글자 제거\n",
    "viewer = soup.select('span.ico_viewer')\n",
    "viewer"
   ]
  },
  {
   "cell_type": "code",
   "execution_count": 79,
   "id": "f28cac08",
   "metadata": {},
   "outputs": [],
   "source": [
    "# extract() : 추출해내다 제거하다.\n",
    "for i in viewer:\n",
    "    i.extract()"
   ]
  },
  {
   "cell_type": "code",
   "execution_count": 81,
   "id": "a767a853",
   "metadata": {},
   "outputs": [
    {
     "name": "stdout",
     "output_type": "stream",
     "text": [
      "평점 잘 안주는데 만점 줄려고 왔다\n",
      "영화관이 필요한 이유\n",
      "중국 애들은 불쌍타 나라 잘못 만나서 이런 영화를 극장에서 못보다니 ㅋㅋ\n",
      "감동의눈물 나올정도입니다. 평점10점급임.  내가 전투기 탄 기분이였음\n",
      "탑건1(1986년)의 36년만의 나온 속편. 매우 만족 스러웠고 매우 재밌었다 무조건 특별관에서 봐야되는 영화 2022년 개봉작 영화중에서 범죄도시2 이후 2번째로 엄청 좋았던 영화 톰 크루즈 미모는 여전히 잘생겼다...\n",
      "이 시대의 마지막 액션스타, \"톰 크루즈\"\n",
      "다른 말이 필요한가 레.전.드\n",
      "개쩐다 말이 필요없음 직접확인\n",
      "감동까지 겸비한 최고의 블록버스터\n",
      "지린다... 지려 할말이 없게 만듬..\n"
     ]
    }
   ],
   "source": [
    "# 다시 확인해보면 관람객이 사라진것을 확인해 볼 수 있다.!\n",
    "for i in review:\n",
    "    print(i.text.strip())\n",
    "# strip 쓰면 불필요한 공간 사라짐"
   ]
  },
  {
   "cell_type": "markdown",
   "id": "0718db83",
   "metadata": {},
   "source": [
    "# 1페이지부터 10페이지까지 크롤링~"
   ]
  },
  {
   "cell_type": "code",
   "execution_count": 82,
   "id": "d6900fb8",
   "metadata": {},
   "outputs": [
    {
     "name": "stdout",
     "output_type": "stream",
     "text": [
      "평점 잘 안주는데 만점 줄려고 왔다\n",
      "영화관이 필요한 이유\n",
      "중국 애들은 불쌍타 나라 잘못 만나서 이런 영화를 극장에서 못보다니 ㅋㅋ\n",
      "감동의눈물 나올정도입니다. 평점10점급임.  내가 전투기 탄 기분이였음\n",
      "탑건1(1986년)의 36년만의 나온 속편. 매우 만족 스러웠고 매우 재밌었다 무조건 특별관에서 봐야되는 영화 2022년 개봉작 영화중에서 범죄도시2 이후 2번째로 엄청 좋았던 영화 톰 크루즈 미모는 여전히 잘생겼다...\n",
      "이 시대의 마지막 액션스타, \"톰 크루즈\"\n",
      "다른 말이 필요한가 레.전.드\n",
      "개쩐다 말이 필요없음 직접확인\n",
      "감동까지 겸비한 최고의 블록버스터\n",
      "지린다... 지려 할말이 없게 만듬..\n"
     ]
    }
   ],
   "source": [
    "# 1페이지만 정보를 수집하는 코드\n",
    "url = 'https://movie.naver.com/movie/bi/mi/pointWriteFormList.naver?code=81888&type=after&i[…]geSubscriptionAlready=false&isMileageSubscriptionReject=false'\n",
    "res=req.get(url)\n",
    "soup=bs(res.text,'lxml')\n",
    "\n",
    "review = soup.select('div.score_reple>p')\n",
    "viewer = soup.select('span.ico_viewer')\n",
    "\n",
    "for i in viewer:\n",
    "    i.extract()\n",
    "for i in review:\n",
    "    print(i.text.strip())\n",
    "    "
   ]
  },
  {
   "cell_type": "code",
   "execution_count": 97,
   "id": "1d9b8dca",
   "metadata": {},
   "outputs": [
    {
     "name": "stderr",
     "output_type": "stream",
     "text": [
      "C:\\Users\\smhrd\\AppData\\Local\\Temp\\ipykernel_15808\\3831850280.py:3: TqdmDeprecationWarning: This function will be removed in tqdm==5.0.0\n",
      "Please use `tqdm.notebook.tqdm` instead of `tqdm.tqdm_notebook`\n",
      "  for i in tq(range(11)):\n"
     ]
    },
    {
     "data": {
      "application/vnd.jupyter.widget-view+json": {
       "model_id": "4ef8735970674986a196b97a44e7c095",
       "version_major": 2,
       "version_minor": 0
      },
      "text/plain": [
       "  0%|          | 0/11 [00:00<?, ?it/s]"
      ]
     },
     "metadata": {},
     "output_type": "display_data"
    },
    {
     "name": "stdout",
     "output_type": "stream",
     "text": [
      "평점 잘 안주는데 만점 줄려고 왔다\n",
      "영화관이 필요한 이유\n",
      "중국 애들은 불쌍타 나라 잘못 만나서 이런 영화를 극장에서 못보다니 ㅋㅋ\n",
      "감동의눈물 나올정도입니다. 평점10점급임.  내가 전투기 탄 기분이였음\n",
      "탑건1(1986년)의 36년만의 나온 속편. 매우 만족 스러웠고 매우 재밌었다 무조건 특별관에서 봐야되는 영화 2022년 개봉작 영화중에서 범죄도시2 이후 2번째로 엄청 좋았던 영화 톰 크루즈 미모는 여전히 잘생겼다...\n",
      "이 시대의 마지막 액션스타, \"톰 크루즈\"\n",
      "다른 말이 필요한가 레.전.드\n",
      "개쩐다 말이 필요없음 직접확인\n",
      "감동까지 겸비한 최고의 블록버스터\n",
      "지린다... 지려 할말이 없게 만듬..\n",
      "돌아가신 아버지가 탑건1을 좋아하셨는데 살아계시다면 꼭 함께 아이맥스관에서 관람하고 싶었어요 아버지와 함께 보는 기분으로 봤어요\n",
      "영화관에서 탑건 보고 집에 가려고 차 핸들 잡는데 F-18 탄것도 아니면서 쓸데없이 비장해짐\n",
      "범죄도시2 재미있죠. 그런데 말입니다, 이거 한번 보고 오시죠.비행기 액션 영화인데 가슴이 웅장해지고 눈물 나올뻔함. 아니 진심 울컥했다니까요. 주변에서 눈물 삼키는 소리인지, 에어컨 때문에 추워서 코 훌쩍이는건진 ...\n",
      "CG시대에 실제 항공기 비행촬영을 한, OTT시대에도 왜 영화관이어야 하는지 새삼 알려준, 헐리우드 영화 황금기 그 시절 극장에서 박수치고 가슴뛰며 보던 그 흥분을 다시 느끼게 해준 영화! 오프닝 탑건 ANTHEM과...\n",
      "영화 보고 이렇게 기분 좋게 나왔던거 너무 오랜만인것같다 ㅋㅋㅋ\n",
      "기체 틀때 파일럿의 몸도 제껴 지니 나까지 심장이  터질듯했다. 미친 명화  탄생  10점 밖에  못 줘서  미안하다.탐형님 만수무강하시길\n",
      "마하10 별점10점!!\n",
      "매버릭은 낭만 그자체다 우리는 탐크루즈 시대의 살고있다\n",
      "미친영화 진심 미친영화특히 마지막 15분은 진짜 영화의 대비를 장식하는 역대 최고의 전투기씬. 톰 크루즈 커리어에 영원히 남을 올해 최고의 대작영화는 진짜 이렇게 만들어야 한다최고의 대작!!3번 보고 또 볼 예정\n",
      "3~40년을 건너뛰어 돌아온 것 만으로도 열광할 이유는 충분하다... 찬사를 보낸다.\n",
      "평점 잘안주는데 만점입니다\n",
      "올해 본 영화 중에 가장 최고의 영화다... 기립박수 치고 싶은 심정\n",
      "역시 실망시키지 않는 천조국 영화 완전 미국 그 자체인 영화 미국인이 보면 국뽕이 한계치까지 차오르는 영화 미국이 자랑스러울 영화 진짜 미국의 군사력 전투력 파일럿 세계최고 영화의 영상미 연출 스토리 연기 모든게 완...\n",
      "어 그냥 조용히 하고 그냥 보고와 후회는 절대 안해. 이런게 예술이지\n",
      "이 영화를 관람하는 데에 있어현금 10만원을 내라고 해도 10만원이 전혀 아깝지 않은 영화이다 역사에 길이 남을 영화...대박이라는 말 밖에 안나온다\n",
      "개봉일 용아맥 20시40분꺼 영화끝나고 좌립박수나옴 ㅋ\n",
      "이렇게 모든 부분에서 완벽한 영화가 천만이 넘어야 하거늘... 천만영화라는 것과 영화의 수준은 별개인가 봅니다.\n",
      "영화 보는 와중에 울컥울컥한다. 이런 영화를 볼수 있음에 감독, 배우들에게 감사\n",
      "톰 크루즈와 동시대를 살고 있고 그가 나온 작품을 여전히 영화관에서 즐길 수 있다는 게 너무 감사하고 또 감사하다.\n",
      "1편에서 봤던 인트로씬 이함장면과 danger zone 브금의 강렬한 인상의 감성을 2편에서 그대로 재현해서 시작부터 가슴이 너무 뛰었습니다. 올드팬들조차 충분히 전율시킬만한 그런 수작이네요.. OTT가 난무하는 요...\n",
      "중력가속도 받으면 다른 배우들은 더 못생겨지는데 톰형은 주름이 펴지면서 더 멋있어짐오토바이 탈 때는 진자 아직도 1편의 그 매버릭 같아 보이더라\n",
      "영화관에 오는 관객을 위해 만든 영화라고 본다거지같은 PC 덕지덕지 붙이면서관객을 가르치려하는 영화들이 계속 쏟아져나오다가드디어 극장에서 봐야하는 재미있는 영화가 나왔다어려울거없다우리가 해야할건 그저 자리에 앉아 화...\n",
      "1. 가슴이 웅장해진다. 말이 안나온다.2. 이게 진짜 영화다.3. 팬티 2장이 아니라 기저귀 차고 가야됨4. 일반 영화랑은 급이 다름 5. 밥 이재용 닮음\n",
      "내용은  뻔한데 단점을 씹어먹을정도로 전투연출이 기가막힘...\n",
      "할리우드 영화사들이여, 계속 돈 벌고  싶은가? 그렇다면 생명 공학에 이빠이 투자해서 늦기 전에 톰 크루즈 복제 인간을 만들도록.\n",
      "한국인인데 미국 국뽕이 차오르다니\n",
      "탐 크루즈에게 탑건은 시작이었지만 마지막은 아닐 것이다. 최소한 오늘은 아니다\n",
      "시사회로 봤습니다. 주말에 2회차 바로 예약 해 놨습니다. 평점 처음 남겨봅니다. 영화관에서 안보면 평생 후회 할 영화..\n",
      "탑건1편 꼭 보고 가세요.보는 중간중간 눈물이 나는데 참느라 힘들었습니다.\n",
      "존잼. 남자들의 가슴에 불을 지피는 영화\n",
      "톰형님 코로나 상황에서 2년 넘게 개봉연기되면서도 끝까지 OTT선공개 거부해줘서 고맙습니다. 이걸 핸드폰으로 봤다고 생각하면 상상만 해도 어휴...\n",
      "제대로 만든 속편의 모범 사례.  꼭 극장에서 보시길\n",
      "CG로 점철되었던 디지털 시대에 모처럼 리얼이 주는 아날로그의 감동을 가져왔다. 영화적인 모든 것들이 과하지 않아 밸런스가 좋고, 항공액션씬은 역대 최고이며, 탐 크루즈는 여전히 최고다.\n",
      "근래 본 영화중 최고 톰형한테 감사하다\n",
      "후속작이 나오기엔 너무 늦지 않았나 했던 걱정을 마하 10의 속도로 날려버린다.\n",
      "나중에 폰으로 보고 \"별론데?\" 하지 말고 무조건 극장에서 봐라.\n",
      "이건 그냥 봐야됨\n",
      "초반 비지엠부터 감동.\n",
      "진짜 액션으로 가슴 뜨거워지게 하는건 이 형이 최고다.\n",
      "과거 명작의 속편들은 이렇게 만들어주세요... 제발\n",
      "남자들 다울고있음말도안되는 영화\n",
      "미친 개존잼 한국인인데 왜 미국 해군의 국뽕이 느껴지냐고\n",
      "그냥 무조건 보세요 생각하지 마세요\n",
      "극장 나오면서 또 다시 자리 결제하는 내 모습을 보았다\n",
      "크루즈형 같이 늙어가줘서 고마워 이번영화는 진짜 최고야 ㅠㅠ\n",
      "평점 10만점이 부족한 영화입니다.최고의 항공영화호불호 없이 볼 수 있는 영화입니다.재미없이 본다는게 이상한 영화입니다.\n",
      "씨네마 역사상 지금까지 나온 모든 블록버스터 영화들 중에서 정석적인 방법으로 가장 잘 만든 블록버스터 영화라고 단언한다.영화관을 나오고, 앞으로 이 이상으로 블록버스터 영화를 만들 수 있을까 하는 의문이 생겼다.끝판...\n",
      "초6 아들과 탑건을 같이 보게  될줄은 몰랐습니다.어벤져스 세대인 아들은 탑건이 어땠을 지도 궁금했구요.식상할 줄 알았지만 시작부터 끝까지 행복하게 관람했습니다. 무엇보다도 초6 아들이 아주 재미 있었다고 합니다.오...\n",
      "무조건 극장에서 봐야하는 영화에요!\n",
      "이게 옳게된 액션영화지.. 이거지.. 잘만든 cg도 눈호강은 되지만 이렇게 생생한 액션은 역시 대체재가 없다 배우들을 전투기에 직접 태우다니 미쳤나 진짜 미친 액션이 나왔다 심지어 잔인한 장면도 야한 장면도 없어 불...\n",
      "생각하지마 최고니까.\n",
      "극장이 존재해야 하는 이유. CG로 범벅된 영화보다 클래식하면서도 카타르시스를 충분히 느낄 수 있는 영화\n",
      "오프닝 음악 듣는순간 전율,,,\n",
      "감동 그자체입니다. 톰 선생님 오래 오래 건강하세요\n",
      "영화관에서 꼭 봐야됨\n",
      "앞으로 이런 영화를 볼 수 없다는 사실이 슬플 뿐입니다\n",
      "이정도면 톰 크루즈가 극장으로 오라고 협박하는 수준.\n",
      "평점 달러 옴. 영화관이 사라질 수 없는 이유. 2만 3천원 내고 4dx로 봐도 안 아까움. IMAX는 차선일 뿐인 영화.\n",
      "톰형이 이갈고 만든느낌이예요 정말 너무 재미있었습니다!!\n",
      "진심으로 죤나 멋있어서 울었다....\n",
      "와.. 영화관에서 안봤으면 후회할뻔.. 진짜 개재밌다\n",
      "제발 이 영화를 꼭 봐주세요. 부탁합니다. 제발 봐주세요. 제발요. ott에서 보고 후회하지 마시고 제발 영화관가서 보세요. 저 지금 하루종일 탑건 생각만 하고 있어요. 다같이 탑건 얘기 해야 하니까 꼭 보세요 쩨발...\n",
      "방금 봤는데 또 보고싶다..\n",
      "천만영화 줄 서봅니다.\n",
      "진짜 재밌게 봄 믿고보는 톰 형 , 마녀2 의 스트레스를 날려버림 마녀2 보지마세요\n",
      "영화관의 존재를 제대로 알린 영화!\n",
      "톰크루즈 는 위대하다.\n",
      "더할것 하나 없고 뺄 것 도 하나 없는 완벽한 후속작.정말 이렇게 모든면에서 완벽한 액션영화를 감상한게 얼마만인지...가벼운 팝콘영화 생각하고 갔다가 진짜 뒤통수 오지게 맞고 나옴. 진짜 너무너무 잘 만들었다.\n",
      "액션 영화 보고 눈물 흘릴 뻔한 적은 처음이다 정말 재밌다.\n",
      "미친영화다 ㅠㅜ 전편 가물가물한 사람들은 꼭 보고가길. 오프닝 부터 초반은 전작 오마주 서비스로 팬들에게 감동폭탄 퍼붓고 스토리는 전편과 연결이 자연스러우며 공중비행과 전투씬은 숨쉴 틈을 안주네. 구스와 함께하는 고...\n",
      "이게 영화고 이게 속편이지\n",
      "전작수준으로 생각하고 보았는데, 상상 이상의 영화였습니다. 역대급!\n",
      "1보고 보면 더 빠져듭니다\n",
      "1편보다 나은 2편은 없다는 규칙을 깨버린 TOPGUN.별 10개도 부족하다.\n",
      "전투기 기동만으로 표값한다. 인위적인지 않고정말 멋짐\n",
      "진짜 오지는데 생각보다 흥행을 못한ㄷㅏ..제바ㄹ 영화관에서 상영해줄때 보세요..ㅠㅠㅠ\n",
      "재미있게 관람했습니다\n",
      "영화를 이렇게 \"재밌게\" 보고 나온게 얼마만인지.. 감동 그잡채..\n",
      "두번 말할 필요도없음 무조건 극장으로\n",
      "슬퍼서가 아니라 벅차올라서 눈물이 나는 영화가 얼마만인가\n",
      "관객이 무엇을 원하는지 알고 제대로 만든 영화입니다. 구질구질한 감독의 숨은 의도나 갈아넣은 영혼 따위 파악할 필요도 없습니다. 그냥 명작입니다.\n",
      "36년의 감동이 36배가 되어 돌아왔다\n",
      "국산이 외산을 따라가지 못한다는걸 또 한번 깨닫게 해준 영화..\n",
      "22년 최고의 영화이자 왜 아직 극장이 필요한지 보여주는 영화. 영상미, 음향 모두 압도적이고, 스토리도 심플하지만 군더더기 없이 깔끔합니다. 전작 내용 알고 가면 등장인물들의 감정선에 더 깊이 몰입할수 있습니다. ...\n",
      "왠만해서 평점안다는데... 이건영화의 한계를 뛰어넘었음\n",
      "<탑건>이 고전이된 영화라면 <탑건: 매버릭>은 새로운 고전이 될 영화다.\n",
      "좀전에 4dx로 보고왔습니다. 4dx에 최적화된 영화입니다. 되도록 꼭 4dx로 보세요!!! 개인적으로 본 영화중 탑3안에 들정도로 최고였음\n",
      "있어보이는척 평달고 점수 내리는분들 누구보다 재밌게 봤으면서 돌려까지맙시다 돌려차기 한대맞습니다\n",
      "가능하다면 큰 화면으로 봐요 부탁 아니에요\n",
      "전투기 탄 느낌이다.   최고다\n"
     ]
    }
   ],
   "source": [
    "# 반복문을 활용해서 1페이지부터 10페이지까지 데이터 수집하기! (url만 바꿔주면 된다) url 맨뒤에 page=1 인 부분만 바꿔주면 가능\n",
    "# +str(i)+  정수를 스트링으로 바꿔줌\n",
    "for i in tq(range(11)):\n",
    "    url = 'https://movie.naver.com/movie/bi/mi/pointWriteFormList.naver?code=81888&type=after&i[%E2%80%A6]geSubscriptionAlready=false&isMileageSubscriptionReject=false&page='+str(i)+''\n",
    "    res=req.get(url)\n",
    "    soup=bs(res.text,'lxml')\n",
    "\n",
    "    review = soup.select('div.score_reple>p')\n",
    "    viewer = soup.select('span.ico_viewer')\n",
    "\n",
    "    for i in viewer:\n",
    "        i.extract()\n",
    "    for i in review:\n",
    "        print(i.text.strip())"
   ]
  },
  {
   "cell_type": "markdown",
   "id": "7dbe11fc",
   "metadata": {},
   "source": [
    "### 반복문의 진행상황을 로딩바 형태로 출력해주는 라이브러리!\n",
    "- tqdm"
   ]
  },
  {
   "cell_type": "code",
   "execution_count": 96,
   "id": "b7c0d99b",
   "metadata": {},
   "outputs": [],
   "source": [
    "from tqdm import tqdm_notebook as tq"
   ]
  },
  {
   "cell_type": "code",
   "execution_count": null,
   "id": "2e8ffb13",
   "metadata": {},
   "outputs": [],
   "source": []
  },
  {
   "cell_type": "code",
   "execution_count": null,
   "id": "9a342156",
   "metadata": {},
   "outputs": [],
   "source": []
  },
  {
   "cell_type": "code",
   "execution_count": null,
   "id": "e2591263",
   "metadata": {},
   "outputs": [],
   "source": []
  },
  {
   "cell_type": "code",
   "execution_count": null,
   "id": "29adbc03",
   "metadata": {},
   "outputs": [],
   "source": []
  }
 ],
 "metadata": {
  "kernelspec": {
   "display_name": "Python 3 (ipykernel)",
   "language": "python",
   "name": "python3"
  },
  "language_info": {
   "codemirror_mode": {
    "name": "ipython",
    "version": 3
   },
   "file_extension": ".py",
   "mimetype": "text/x-python",
   "name": "python",
   "nbconvert_exporter": "python",
   "pygments_lexer": "ipython3",
   "version": "3.9.12"
  }
 },
 "nbformat": 4,
 "nbformat_minor": 5
}
